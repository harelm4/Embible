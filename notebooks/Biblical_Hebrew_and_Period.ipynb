{
  "nbformat": 4,
  "nbformat_minor": 0,
  "metadata": {
    "colab": {
      "provenance": []
    },
    "kernelspec": {
      "name": "python3",
      "display_name": "Python 3"
    },
    "language_info": {
      "name": "python"
    }
  },
  "cells": [
    {
      "cell_type": "code",
      "source": [
        "!pip install transformers\n",
        "!pip install datasets"
      ],
      "metadata": {
        "id": "SlqPD42iBcxG",
        "colab": {
          "base_uri": "https://localhost:8080/"
        },
        "outputId": "b079261d-c265-452b-9af4-45458a25d8a4"
      },
      "execution_count": 1,
      "outputs": [
        {
          "output_type": "stream",
          "name": "stdout",
          "text": [
            "Looking in indexes: https://pypi.org/simple, https://us-python.pkg.dev/colab-wheels/public/simple/\n",
            "Collecting transformers\n",
            "  Downloading transformers-4.27.4-py3-none-any.whl (6.8 MB)\n",
            "\u001b[2K     \u001b[90m━━━━━━━━━━━━━━━━━━━━━━━━━━━━━━━━━━━━━━━━\u001b[0m \u001b[32m6.8/6.8 MB\u001b[0m \u001b[31m56.9 MB/s\u001b[0m eta \u001b[36m0:00:00\u001b[0m\n",
            "\u001b[?25hRequirement already satisfied: regex!=2019.12.17 in /usr/local/lib/python3.9/dist-packages (from transformers) (2022.10.31)\n",
            "Collecting huggingface-hub<1.0,>=0.11.0\n",
            "  Downloading huggingface_hub-0.13.3-py3-none-any.whl (199 kB)\n",
            "\u001b[2K     \u001b[90m━━━━━━━━━━━━━━━━━━━━━━━━━━━━━━━━━━━━━━\u001b[0m \u001b[32m199.8/199.8 KB\u001b[0m \u001b[31m26.3 MB/s\u001b[0m eta \u001b[36m0:00:00\u001b[0m\n",
            "\u001b[?25hRequirement already satisfied: requests in /usr/local/lib/python3.9/dist-packages (from transformers) (2.27.1)\n",
            "Requirement already satisfied: pyyaml>=5.1 in /usr/local/lib/python3.9/dist-packages (from transformers) (6.0)\n",
            "Requirement already satisfied: packaging>=20.0 in /usr/local/lib/python3.9/dist-packages (from transformers) (23.0)\n",
            "Collecting tokenizers!=0.11.3,<0.14,>=0.11.1\n",
            "  Downloading tokenizers-0.13.2-cp39-cp39-manylinux_2_17_x86_64.manylinux2014_x86_64.whl (7.6 MB)\n",
            "\u001b[2K     \u001b[90m━━━━━━━━━━━━━━━━━━━━━━━━━━━━━━━━━━━━━━━━\u001b[0m \u001b[32m7.6/7.6 MB\u001b[0m \u001b[31m96.1 MB/s\u001b[0m eta \u001b[36m0:00:00\u001b[0m\n",
            "\u001b[?25hRequirement already satisfied: numpy>=1.17 in /usr/local/lib/python3.9/dist-packages (from transformers) (1.22.4)\n",
            "Requirement already satisfied: tqdm>=4.27 in /usr/local/lib/python3.9/dist-packages (from transformers) (4.65.0)\n",
            "Requirement already satisfied: filelock in /usr/local/lib/python3.9/dist-packages (from transformers) (3.10.7)\n",
            "Requirement already satisfied: typing-extensions>=3.7.4.3 in /usr/local/lib/python3.9/dist-packages (from huggingface-hub<1.0,>=0.11.0->transformers) (4.5.0)\n",
            "Requirement already satisfied: certifi>=2017.4.17 in /usr/local/lib/python3.9/dist-packages (from requests->transformers) (2022.12.7)\n",
            "Requirement already satisfied: charset-normalizer~=2.0.0 in /usr/local/lib/python3.9/dist-packages (from requests->transformers) (2.0.12)\n",
            "Requirement already satisfied: urllib3<1.27,>=1.21.1 in /usr/local/lib/python3.9/dist-packages (from requests->transformers) (1.26.15)\n",
            "Requirement already satisfied: idna<4,>=2.5 in /usr/local/lib/python3.9/dist-packages (from requests->transformers) (3.4)\n",
            "Installing collected packages: tokenizers, huggingface-hub, transformers\n",
            "Successfully installed huggingface-hub-0.13.3 tokenizers-0.13.2 transformers-4.27.4\n",
            "Looking in indexes: https://pypi.org/simple, https://us-python.pkg.dev/colab-wheels/public/simple/\n",
            "Collecting datasets\n",
            "  Downloading datasets-2.11.0-py3-none-any.whl (468 kB)\n",
            "\u001b[2K     \u001b[90m━━━━━━━━━━━━━━━━━━━━━━━━━━━━━━━━━━━━━━\u001b[0m \u001b[32m468.7/468.7 KB\u001b[0m \u001b[31m14.5 MB/s\u001b[0m eta \u001b[36m0:00:00\u001b[0m\n",
            "\u001b[?25hRequirement already satisfied: pyyaml>=5.1 in /usr/local/lib/python3.9/dist-packages (from datasets) (6.0)\n",
            "Collecting responses<0.19\n",
            "  Downloading responses-0.18.0-py3-none-any.whl (38 kB)\n",
            "Requirement already satisfied: huggingface-hub<1.0.0,>=0.11.0 in /usr/local/lib/python3.9/dist-packages (from datasets) (0.13.3)\n",
            "Collecting aiohttp\n",
            "  Downloading aiohttp-3.8.4-cp39-cp39-manylinux_2_17_x86_64.manylinux2014_x86_64.whl (1.0 MB)\n",
            "\u001b[2K     \u001b[90m━━━━━━━━━━━━━━━━━━━━━━━━━━━━━━━━━━━━━━━━\u001b[0m \u001b[32m1.0/1.0 MB\u001b[0m \u001b[31m19.9 MB/s\u001b[0m eta \u001b[36m0:00:00\u001b[0m\n",
            "\u001b[?25hRequirement already satisfied: tqdm>=4.62.1 in /usr/local/lib/python3.9/dist-packages (from datasets) (4.65.0)\n",
            "Collecting dill<0.3.7,>=0.3.0\n",
            "  Downloading dill-0.3.6-py3-none-any.whl (110 kB)\n",
            "\u001b[2K     \u001b[90m━━━━━━━━━━━━━━━━━━━━━━━━━━━━━━━━━━━━━━\u001b[0m \u001b[32m110.5/110.5 KB\u001b[0m \u001b[31m13.4 MB/s\u001b[0m eta \u001b[36m0:00:00\u001b[0m\n",
            "\u001b[?25hCollecting xxhash\n",
            "  Downloading xxhash-3.2.0-cp39-cp39-manylinux_2_17_x86_64.manylinux2014_x86_64.whl (212 kB)\n",
            "\u001b[2K     \u001b[90m━━━━━━━━━━━━━━━━━━━━━━━━━━━━━━━━━━━━━━\u001b[0m \u001b[32m212.2/212.2 KB\u001b[0m \u001b[31m22.6 MB/s\u001b[0m eta \u001b[36m0:00:00\u001b[0m\n",
            "\u001b[?25hRequirement already satisfied: pandas in /usr/local/lib/python3.9/dist-packages (from datasets) (1.4.4)\n",
            "Requirement already satisfied: requests>=2.19.0 in /usr/local/lib/python3.9/dist-packages (from datasets) (2.27.1)\n",
            "Requirement already satisfied: packaging in /usr/local/lib/python3.9/dist-packages (from datasets) (23.0)\n",
            "Requirement already satisfied: numpy>=1.17 in /usr/local/lib/python3.9/dist-packages (from datasets) (1.22.4)\n",
            "Collecting multiprocess\n",
            "  Downloading multiprocess-0.70.14-py39-none-any.whl (132 kB)\n",
            "\u001b[2K     \u001b[90m━━━━━━━━━━━━━━━━━━━━━━━━━━━━━━━━━━━━━━\u001b[0m \u001b[32m132.9/132.9 KB\u001b[0m \u001b[31m18.0 MB/s\u001b[0m eta \u001b[36m0:00:00\u001b[0m\n",
            "\u001b[?25hRequirement already satisfied: fsspec[http]>=2021.11.1 in /usr/local/lib/python3.9/dist-packages (from datasets) (2023.3.0)\n",
            "Requirement already satisfied: pyarrow>=8.0.0 in /usr/local/lib/python3.9/dist-packages (from datasets) (9.0.0)\n",
            "Requirement already satisfied: charset-normalizer<4.0,>=2.0 in /usr/local/lib/python3.9/dist-packages (from aiohttp->datasets) (2.0.12)\n",
            "Collecting yarl<2.0,>=1.0\n",
            "  Downloading yarl-1.8.2-cp39-cp39-manylinux_2_17_x86_64.manylinux2014_x86_64.whl (264 kB)\n",
            "\u001b[2K     \u001b[90m━━━━━━━━━━━━━━━━━━━━━━━━━━━━━━━━━━━━━━\u001b[0m \u001b[32m264.6/264.6 KB\u001b[0m \u001b[31m27.9 MB/s\u001b[0m eta \u001b[36m0:00:00\u001b[0m\n",
            "\u001b[?25hRequirement already satisfied: attrs>=17.3.0 in /usr/local/lib/python3.9/dist-packages (from aiohttp->datasets) (22.2.0)\n",
            "Collecting async-timeout<5.0,>=4.0.0a3\n",
            "  Downloading async_timeout-4.0.2-py3-none-any.whl (5.8 kB)\n",
            "Collecting aiosignal>=1.1.2\n",
            "  Downloading aiosignal-1.3.1-py3-none-any.whl (7.6 kB)\n",
            "Collecting multidict<7.0,>=4.5\n",
            "  Downloading multidict-6.0.4-cp39-cp39-manylinux_2_17_x86_64.manylinux2014_x86_64.whl (114 kB)\n",
            "\u001b[2K     \u001b[90m━━━━━━━━━━━━━━━━━━━━━━━━━━━━━━━━━━━━━━━\u001b[0m \u001b[32m114.2/114.2 KB\u001b[0m \u001b[31m9.6 MB/s\u001b[0m eta \u001b[36m0:00:00\u001b[0m\n",
            "\u001b[?25hCollecting frozenlist>=1.1.1\n",
            "  Downloading frozenlist-1.3.3-cp39-cp39-manylinux_2_5_x86_64.manylinux1_x86_64.manylinux_2_17_x86_64.manylinux2014_x86_64.whl (158 kB)\n",
            "\u001b[2K     \u001b[90m━━━━━━━━━━━━━━━━━━━━━━━━━━━━━━━━━━━━━━\u001b[0m \u001b[32m158.8/158.8 KB\u001b[0m \u001b[31m20.1 MB/s\u001b[0m eta \u001b[36m0:00:00\u001b[0m\n",
            "\u001b[?25hRequirement already satisfied: filelock in /usr/local/lib/python3.9/dist-packages (from huggingface-hub<1.0.0,>=0.11.0->datasets) (3.10.7)\n",
            "Requirement already satisfied: typing-extensions>=3.7.4.3 in /usr/local/lib/python3.9/dist-packages (from huggingface-hub<1.0.0,>=0.11.0->datasets) (4.5.0)\n",
            "Requirement already satisfied: urllib3<1.27,>=1.21.1 in /usr/local/lib/python3.9/dist-packages (from requests>=2.19.0->datasets) (1.26.15)\n",
            "Requirement already satisfied: idna<4,>=2.5 in /usr/local/lib/python3.9/dist-packages (from requests>=2.19.0->datasets) (3.4)\n",
            "Requirement already satisfied: certifi>=2017.4.17 in /usr/local/lib/python3.9/dist-packages (from requests>=2.19.0->datasets) (2022.12.7)\n",
            "Requirement already satisfied: python-dateutil>=2.8.1 in /usr/local/lib/python3.9/dist-packages (from pandas->datasets) (2.8.2)\n",
            "Requirement already satisfied: pytz>=2020.1 in /usr/local/lib/python3.9/dist-packages (from pandas->datasets) (2022.7.1)\n",
            "Requirement already satisfied: six>=1.5 in /usr/local/lib/python3.9/dist-packages (from python-dateutil>=2.8.1->pandas->datasets) (1.16.0)\n",
            "Installing collected packages: xxhash, multidict, frozenlist, dill, async-timeout, yarl, responses, multiprocess, aiosignal, aiohttp, datasets\n",
            "Successfully installed aiohttp-3.8.4 aiosignal-1.3.1 async-timeout-4.0.2 datasets-2.11.0 dill-0.3.6 frozenlist-1.3.3 multidict-6.0.4 multiprocess-0.70.14 responses-0.18.0 xxhash-3.2.0 yarl-1.8.2\n"
          ]
        }
      ]
    },
    {
      "cell_type": "code",
      "execution_count": 2,
      "metadata": {
        "id": "mSpHMTqABNkO"
      },
      "outputs": [],
      "source": [
        "import pandas as pd\n",
        "import torch\n",
        "import datasets\n",
        "import transformers\n",
        "from transformers import AutoTokenizer,AutoModelForMaskedLM\n",
        "from transformers import DataCollatorForLanguageModeling\n",
        "from transformers import TrainingArguments\n",
        "from transformers import Trainer\n",
        "import warnings\n",
        "warnings.filterwarnings(\"ignore\")"
      ]
    },
    {
      "cell_type": "code",
      "source": [
        "device = torch.device('cuda' if torch.cuda.is_available() else 'cpu')\n"
      ],
      "metadata": {
        "id": "Cm0esnwMBXjR"
      },
      "execution_count": 3,
      "outputs": []
    },
    {
      "cell_type": "code",
      "source": [
        "from google.colab import drive\n",
        "drive.mount('/content/drive')"
      ],
      "metadata": {
        "colab": {
          "base_uri": "https://localhost:8080/"
        },
        "id": "Nqq-aPlmB2ov",
        "outputId": "6b196cac-ff8d-4209-b84d-78ded7bde1b0"
      },
      "execution_count": 4,
      "outputs": [
        {
          "output_type": "stream",
          "name": "stdout",
          "text": [
            "Mounted at /content/drive\n"
          ]
        }
      ]
    },
    {
      "cell_type": "code",
      "source": [
        "valid_df=pd.read_csv('/content/drive/Shareddrives/Embible/Data/DFs without niqqud/valid_df_no_niqqud.csv', sep='\\\\t', encoding='utf-8')"
      ],
      "metadata": {
        "id": "0fTgA8T7Bmd1"
      },
      "execution_count": 6,
      "outputs": []
    },
    {
      "cell_type": "code",
      "source": [
        "print(valid_df.columns.tolist())"
      ],
      "metadata": {
        "colab": {
          "base_uri": "https://localhost:8080/"
        },
        "id": "9SodcXk2DFOO",
        "outputId": "483227f6-dda0-4014-d0cc-cf59455ad7a8"
      },
      "execution_count": 7,
      "outputs": [
        {
          "output_type": "stream",
          "name": "stdout",
          "text": [
            "['Unnamed: 0', 'name', 'verse_idx', 'verse']\n"
          ]
        }
      ]
    },
    {
      "cell_type": "code",
      "source": [
        "print(valid_df.name.unique())"
      ],
      "metadata": {
        "colab": {
          "base_uri": "https://localhost:8080/"
        },
        "id": "Eqq6YLeACh1P",
        "outputId": "ed834ced-fb48-4216-91c1-909bc00f5bbf"
      },
      "execution_count": 8,
      "outputs": [
        {
          "output_type": "stream",
          "name": "stdout",
          "text": [
            "['Isaiah' 'Judges' 'Nehemiah' 'Leviticus' 'Samuel_2' 'Ezra' 'Samuel_1'\n",
            " 'Ruth' 'Habakkuk' 'Jonah' 'Jeremiah' 'Obadiah' 'Joel' 'Hosea'\n",
            " 'Song_of_Songs' 'Micah' 'Lamentations' 'Kings_1' 'Kings_2' 'Esther'\n",
            " 'Haggai' 'Proverbs' 'Genesis' 'Job' 'Deuteronomy' 'Daniel' 'Numbers'\n",
            " 'Chronicles_1' 'Ezekiel' 'Zephaniah' 'Psalms' 'Nahum' 'Amos' 'Zechariah'\n",
            " 'Malachi' 'Ecclesiastes' 'Chronicles_2' 'Joshua' 'Exodus']\n"
          ]
        }
      ]
    },
    {
      "cell_type": "code",
      "source": [
        "Period_dic={'Monarchic':['Hosea','Nahum','Zephaniah','Habakkuk','Isaiah','Judges','Samuel_1','Samuel_2','Kings_1','Kings_2','Micah','Proverbs','Deuteronomy','Psalms','Amos','Joshua'],\n",
        "            'Exilic':['Obadiah','Lamentations','Ezekiel','Jeremiah'],\n",
        "            'Post-exilic Persian':['Genesis','Exodus','Leviticus','Numbers','Ruth','Haggai','Zechariah','Malachi','Chronicles_1','Chronicles_2','Ezra','Nehemiah','Joel'],\n",
        "            'Post-exilic Hellenistic':['Job','Ecclesiastes','Song_of_Songs','Jonah','Esther'],\n",
        "            'Hasmonean':['Daniel']}\n",
        "Biblical_Hebrew_dic={'Classical Biblical Hebrew':['Genesis','Exodus','Leviticus','Numbers','Deuteronomy','Joshua','Judges','Samuel_1','Samuel_2','Kings_1','Kings_2','Isaiah'],\n",
        "                     'Transitional period between the classical language and the later language':['Jeremiah','Ezekiel'],\n",
        "                     'Late Biblical Hebrew':['Ezra','Nehemiah','Esther','Daniel','Chronicles_1','Chronicles_2','Haggai','Zechariah','Malachi','Song_of_Songs','Ecclesiastes']}"
      ],
      "metadata": {
        "id": "wmw7E6Iq0rKK"
      },
      "execution_count": 9,
      "outputs": []
    },
    {
      "cell_type": "code",
      "source": [
        "Period_lst=[]\n",
        "flag=False\n",
        "for i in range(len(valid_df)):\n",
        "  for k,v in Period_dic.items():\n",
        "    if(valid_df['name'][i] in v):\n",
        "      Period_lst.append(k)\n",
        "      flag=True\n",
        "  if(not flag):\n",
        "    Period_lst.append('TBD')\n",
        "  flag=False\n",
        "\n",
        "Biblical_Hebrew_lst=[]\n",
        "flag=False\n",
        "for i in range(len(valid_df)):\n",
        "  for k,v in Biblical_Hebrew_dic.items():\n",
        "    if(valid_df['name'][i] in v):\n",
        "      Biblical_Hebrew_lst.append(k)\n",
        "      flag=True\n",
        "  if(not flag):\n",
        "    Biblical_Hebrew_lst.append('TBD')\n",
        "  flag=False\n",
        "\n",
        "valid_df['Period']=Period_lst\n",
        "valid_df['Biblical_Hebrew_era']=Biblical_Hebrew_lst\n"
      ],
      "metadata": {
        "id": "vAikrLWw-lW2"
      },
      "execution_count": 10,
      "outputs": []
    },
    {
      "cell_type": "code",
      "source": [
        "import plotly.express as px\n",
        "fig = px.histogram(valid_df, x=\"Period\")\n",
        "fig.show()"
      ],
      "metadata": {
        "colab": {
          "base_uri": "https://localhost:8080/",
          "height": 542
        },
        "id": "2I4BCZliD630",
        "outputId": "09660792-291d-4f73-eec3-fc58b126f537"
      },
      "execution_count": 11,
      "outputs": [
        {
          "output_type": "display_data",
          "data": {
            "text/html": [
              "<html>\n",
              "<head><meta charset=\"utf-8\" /></head>\n",
              "<body>\n",
              "    <div>            <script src=\"https://cdnjs.cloudflare.com/ajax/libs/mathjax/2.7.5/MathJax.js?config=TeX-AMS-MML_SVG\"></script><script type=\"text/javascript\">if (window.MathJax && window.MathJax.Hub && window.MathJax.Hub.Config) {window.MathJax.Hub.Config({SVG: {font: \"STIX-Web\"}});}</script>                <script type=\"text/javascript\">window.PlotlyConfig = {MathJaxConfig: 'local'};</script>\n",
              "        <script src=\"https://cdn.plot.ly/plotly-2.18.2.min.js\"></script>                <div id=\"d69f7694-de37-4d0f-a162-d16883c10d3a\" class=\"plotly-graph-div\" style=\"height:525px; width:100%;\"></div>            <script type=\"text/javascript\">                                    window.PLOTLYENV=window.PLOTLYENV || {};                                    if (document.getElementById(\"d69f7694-de37-4d0f-a162-d16883c10d3a\")) {                    Plotly.newPlot(                        \"d69f7694-de37-4d0f-a162-d16883c10d3a\",                        [{\"alignmentgroup\":\"True\",\"bingroup\":\"x\",\"hovertemplate\":\"Period=%{x}<br>count=%{y}<extra></extra>\",\"legendgroup\":\"\",\"marker\":{\"color\":\"#636efa\",\"pattern\":{\"shape\":\"\"}},\"name\":\"\",\"offsetgroup\":\"\",\"orientation\":\"v\",\"showlegend\":false,\"x\":[\"Monarchic\",\"Monarchic\",\"Monarchic\",\"Monarchic\",\"Monarchic\",\"Monarchic\",\"Monarchic\",\"Monarchic\",\"Monarchic\",\"Monarchic\",\"Monarchic\",\"Monarchic\",\"Monarchic\",\"Monarchic\",\"Monarchic\",\"Monarchic\",\"Monarchic\",\"Monarchic\",\"Monarchic\",\"Monarchic\",\"Monarchic\",\"Monarchic\",\"Monarchic\",\"Monarchic\",\"Monarchic\",\"Monarchic\",\"Monarchic\",\"Monarchic\",\"Monarchic\",\"Monarchic\",\"Monarchic\",\"Monarchic\",\"Monarchic\",\"Monarchic\",\"Monarchic\",\"Monarchic\",\"Monarchic\",\"Monarchic\",\"Monarchic\",\"Monarchic\",\"Post-exilic Persian\",\"Post-exilic Persian\",\"Post-exilic Persian\",\"Post-exilic Persian\",\"Post-exilic Persian\",\"Post-exilic Persian\",\"Post-exilic Persian\",\"Post-exilic Persian\",\"Post-exilic Persian\",\"Post-exilic Persian\",\"Post-exilic Persian\",\"Post-exilic Persian\",\"Post-exilic Persian\",\"Post-exilic Persian\",\"Post-exilic Persian\",\"Post-exilic Persian\",\"Post-exilic Persian\",\"Post-exilic Persian\",\"Post-exilic Persian\",\"Post-exilic Persian\",\"Post-exilic Persian\",\"Post-exilic Persian\",\"Post-exilic Persian\",\"Post-exilic Persian\",\"Post-exilic Persian\",\"Post-exilic Persian\",\"Monarchic\",\"Monarchic\",\"Monarchic\",\"Monarchic\",\"Monarchic\",\"Monarchic\",\"Monarchic\",\"Monarchic\",\"Monarchic\",\"Monarchic\",\"Monarchic\",\"Monarchic\",\"Monarchic\",\"Monarchic\",\"Post-exilic Persian\",\"Post-exilic Persian\",\"Post-exilic Persian\",\"Post-exilic Persian\",\"Post-exilic Persian\",\"Post-exilic Persian\",\"Monarchic\",\"Monarchic\",\"Monarchic\",\"Monarchic\",\"Monarchic\",\"Monarchic\",\"Monarchic\",\"Monarchic\",\"Monarchic\",\"Monarchic\",\"Monarchic\",\"Monarchic\",\"Monarchic\",\"Monarchic\",\"Monarchic\",\"Monarchic\",\"Monarchic\",\"Post-exilic Persian\",\"Post-exilic Persian\",\"Post-exilic Persian\",\"Post-exilic Persian\",\"Post-exilic Persian\",\"Monarchic\",\"Monarchic\",\"Monarchic\",\"Monarchic\",\"Monarchic\",\"Post-exilic Hellenistic\",\"Post-exilic Hellenistic\",\"Post-exilic Hellenistic\",\"Post-exilic Hellenistic\",\"Post-exilic Hellenistic\",\"Exilic\",\"Exilic\",\"Exilic\",\"Exilic\",\"Exilic\",\"Exilic\",\"Exilic\",\"Exilic\",\"Exilic\",\"Exilic\",\"Exilic\",\"Exilic\",\"Exilic\",\"Exilic\",\"Exilic\",\"Exilic\",\"Exilic\",\"Exilic\",\"Exilic\",\"Exilic\",\"Exilic\",\"Exilic\",\"Exilic\",\"Exilic\",\"Exilic\",\"Exilic\",\"Exilic\",\"Exilic\",\"Exilic\",\"Exilic\",\"Exilic\",\"Exilic\",\"Exilic\",\"Exilic\",\"Post-exilic Persian\",\"Post-exilic Persian\",\"Post-exilic Persian\",\"Post-exilic Persian\",\"Post-exilic Persian\",\"Monarchic\",\"Monarchic\",\"Monarchic\",\"Monarchic\",\"Monarchic\",\"Post-exilic Hellenistic\",\"Post-exilic Hellenistic\",\"Post-exilic Hellenistic\",\"Post-exilic Hellenistic\",\"Post-exilic Hellenistic\",\"Monarchic\",\"Monarchic\",\"Monarchic\",\"Monarchic\",\"Monarchic\",\"Exilic\",\"Exilic\",\"Exilic\",\"Exilic\",\"Exilic\",\"Monarchic\",\"Monarchic\",\"Monarchic\",\"Monarchic\",\"Monarchic\",\"Monarchic\",\"Monarchic\",\"Monarchic\",\"Monarchic\",\"Monarchic\",\"Monarchic\",\"Monarchic\",\"Monarchic\",\"Monarchic\",\"Monarchic\",\"Monarchic\",\"Monarchic\",\"Monarchic\",\"Monarchic\",\"Monarchic\",\"Monarchic\",\"Monarchic\",\"Monarchic\",\"Monarchic\",\"Monarchic\",\"Monarchic\",\"Monarchic\",\"Monarchic\",\"Monarchic\",\"Monarchic\",\"Monarchic\",\"Monarchic\",\"Post-exilic Hellenistic\",\"Post-exilic Hellenistic\",\"Post-exilic Hellenistic\",\"Post-exilic Hellenistic\",\"Post-exilic Hellenistic\",\"Post-exilic Persian\",\"Post-exilic Persian\",\"Post-exilic Persian\",\"Post-exilic Persian\",\"Post-exilic Persian\",\"Monarchic\",\"Monarchic\",\"Monarchic\",\"Monarchic\",\"Monarchic\",\"Monarchic\",\"Monarchic\",\"Monarchic\",\"Monarchic\",\"Monarchic\",\"Monarchic\",\"Monarchic\",\"Monarchic\",\"Monarchic\",\"Monarchic\",\"Monarchic\",\"Monarchic\",\"Monarchic\",\"Monarchic\",\"Post-exilic Persian\",\"Post-exilic Persian\",\"Post-exilic Persian\",\"Post-exilic Persian\",\"Post-exilic Persian\",\"Post-exilic Persian\",\"Post-exilic Persian\",\"Post-exilic Persian\",\"Post-exilic Persian\",\"Post-exilic Persian\",\"Post-exilic Persian\",\"Post-exilic Persian\",\"Post-exilic Persian\",\"Post-exilic Persian\",\"Post-exilic Persian\",\"Post-exilic Persian\",\"Post-exilic Persian\",\"Post-exilic Persian\",\"Post-exilic Persian\",\"Post-exilic Persian\",\"Post-exilic Persian\",\"Post-exilic Persian\",\"Post-exilic Persian\",\"Post-exilic Persian\",\"Post-exilic Persian\",\"Post-exilic Persian\",\"Post-exilic Persian\",\"Post-exilic Persian\",\"Post-exilic Persian\",\"Post-exilic Persian\",\"Post-exilic Persian\",\"Post-exilic Persian\",\"Post-exilic Persian\",\"Post-exilic Hellenistic\",\"Post-exilic Hellenistic\",\"Post-exilic Hellenistic\",\"Post-exilic Hellenistic\",\"Post-exilic Hellenistic\",\"Post-exilic Hellenistic\",\"Post-exilic Hellenistic\",\"Post-exilic Hellenistic\",\"Post-exilic Hellenistic\",\"Post-exilic Hellenistic\",\"Post-exilic Hellenistic\",\"Post-exilic Hellenistic\",\"Post-exilic Hellenistic\",\"Post-exilic Hellenistic\",\"Post-exilic Hellenistic\",\"Post-exilic Hellenistic\",\"Post-exilic Hellenistic\",\"Post-exilic Hellenistic\",\"Post-exilic Hellenistic\",\"Post-exilic Hellenistic\",\"Post-exilic Hellenistic\",\"Post-exilic Hellenistic\",\"Post-exilic Hellenistic\",\"Monarchic\",\"Monarchic\",\"Monarchic\",\"Monarchic\",\"Monarchic\",\"Monarchic\",\"Monarchic\",\"Monarchic\",\"Monarchic\",\"Monarchic\",\"Monarchic\",\"Monarchic\",\"Monarchic\",\"Monarchic\",\"Monarchic\",\"Monarchic\",\"Monarchic\",\"Monarchic\",\"Monarchic\",\"Monarchic\",\"Hasmonean\",\"Hasmonean\",\"Hasmonean\",\"Hasmonean\",\"Hasmonean\",\"Hasmonean\",\"Hasmonean\",\"Post-exilic Persian\",\"Post-exilic Persian\",\"Post-exilic Persian\",\"Post-exilic Persian\",\"Post-exilic Persian\",\"Post-exilic Persian\",\"Post-exilic Persian\",\"Post-exilic Persian\",\"Post-exilic Persian\",\"Post-exilic Persian\",\"Post-exilic Persian\",\"Post-exilic Persian\",\"Post-exilic Persian\",\"Post-exilic Persian\",\"Post-exilic Persian\",\"Post-exilic Persian\",\"Post-exilic Persian\",\"Post-exilic Persian\",\"Post-exilic Persian\",\"Post-exilic Persian\",\"Post-exilic Persian\",\"Post-exilic Persian\",\"Post-exilic Persian\",\"Post-exilic Persian\",\"Post-exilic Persian\",\"Post-exilic Persian\",\"Post-exilic Persian\",\"Post-exilic Persian\",\"Post-exilic Persian\",\"Post-exilic Persian\",\"Post-exilic Persian\",\"Post-exilic Persian\",\"Post-exilic Persian\",\"Post-exilic Persian\",\"Post-exilic Persian\",\"Post-exilic Persian\",\"Post-exilic Persian\",\"Post-exilic Persian\",\"Post-exilic Persian\",\"Post-exilic Persian\",\"Post-exilic Persian\",\"Post-exilic Persian\",\"Post-exilic Persian\",\"Post-exilic Persian\",\"Post-exilic Persian\",\"Post-exilic Persian\",\"Post-exilic Persian\",\"Exilic\",\"Exilic\",\"Exilic\",\"Exilic\",\"Exilic\",\"Exilic\",\"Exilic\",\"Exilic\",\"Exilic\",\"Exilic\",\"Exilic\",\"Exilic\",\"Exilic\",\"Exilic\",\"Exilic\",\"Exilic\",\"Exilic\",\"Exilic\",\"Exilic\",\"Exilic\",\"Exilic\",\"Exilic\",\"Exilic\",\"Exilic\",\"Exilic\",\"Exilic\",\"Exilic\",\"Monarchic\",\"Monarchic\",\"Monarchic\",\"Monarchic\",\"Monarchic\",\"Monarchic\",\"Monarchic\",\"Monarchic\",\"Monarchic\",\"Monarchic\",\"Monarchic\",\"Monarchic\",\"Monarchic\",\"Monarchic\",\"Monarchic\",\"Monarchic\",\"Monarchic\",\"Monarchic\",\"Monarchic\",\"Monarchic\",\"Monarchic\",\"Monarchic\",\"Monarchic\",\"Monarchic\",\"Monarchic\",\"Monarchic\",\"Monarchic\",\"Monarchic\",\"Monarchic\",\"Monarchic\",\"Monarchic\",\"Monarchic\",\"Monarchic\",\"Monarchic\",\"Monarchic\",\"Monarchic\",\"Monarchic\",\"Monarchic\",\"Monarchic\",\"Monarchic\",\"Monarchic\",\"Monarchic\",\"Monarchic\",\"Monarchic\",\"Monarchic\",\"Monarchic\",\"Monarchic\",\"Monarchic\",\"Monarchic\",\"Monarchic\",\"Monarchic\",\"Monarchic\",\"Monarchic\",\"Monarchic\",\"Monarchic\",\"Monarchic\",\"Monarchic\",\"Monarchic\",\"Monarchic\",\"Monarchic\",\"Monarchic\",\"Monarchic\",\"Monarchic\",\"Monarchic\",\"Monarchic\",\"Monarchic\",\"Monarchic\",\"Monarchic\",\"Monarchic\",\"Post-exilic Persian\",\"Post-exilic Persian\",\"Post-exilic Persian\",\"Post-exilic Persian\",\"Post-exilic Persian\",\"Post-exilic Persian\",\"Post-exilic Persian\",\"Post-exilic Persian\",\"Post-exilic Persian\",\"Post-exilic Persian\",\"Post-exilic Hellenistic\",\"Post-exilic Hellenistic\",\"Post-exilic Hellenistic\",\"Post-exilic Hellenistic\",\"Post-exilic Hellenistic\",\"Post-exilic Persian\",\"Post-exilic Persian\",\"Post-exilic Persian\",\"Post-exilic Persian\",\"Post-exilic Persian\",\"Post-exilic Persian\",\"Post-exilic Persian\",\"Post-exilic Persian\",\"Post-exilic Persian\",\"Post-exilic Persian\",\"Post-exilic Persian\",\"Post-exilic Persian\",\"Post-exilic Persian\",\"Post-exilic Persian\",\"Post-exilic Persian\",\"Post-exilic Persian\",\"Post-exilic Persian\",\"Monarchic\",\"Monarchic\",\"Monarchic\",\"Monarchic\",\"Monarchic\",\"Monarchic\",\"Monarchic\",\"Monarchic\",\"Monarchic\",\"Monarchic\",\"Monarchic\",\"Monarchic\",\"Monarchic\",\"Monarchic\",\"Post-exilic Persian\",\"Post-exilic Persian\",\"Post-exilic Persian\",\"Post-exilic Persian\",\"Post-exilic Persian\",\"Post-exilic Persian\",\"Post-exilic Persian\",\"Post-exilic Persian\",\"Post-exilic Persian\",\"Post-exilic Persian\",\"Post-exilic Persian\",\"Post-exilic Persian\",\"Post-exilic Persian\",\"Post-exilic Persian\",\"Post-exilic Persian\",\"Post-exilic Persian\",\"Post-exilic Persian\",\"Post-exilic Persian\",\"Post-exilic Persian\",\"Post-exilic Persian\",\"Post-exilic Persian\",\"Post-exilic Persian\",\"Post-exilic Persian\",\"Post-exilic Persian\",\"Post-exilic Persian\",\"Post-exilic Persian\"],\"xaxis\":\"x\",\"yaxis\":\"y\",\"type\":\"histogram\"}],                        {\"template\":{\"data\":{\"histogram2dcontour\":[{\"type\":\"histogram2dcontour\",\"colorbar\":{\"outlinewidth\":0,\"ticks\":\"\"},\"colorscale\":[[0.0,\"#0d0887\"],[0.1111111111111111,\"#46039f\"],[0.2222222222222222,\"#7201a8\"],[0.3333333333333333,\"#9c179e\"],[0.4444444444444444,\"#bd3786\"],[0.5555555555555556,\"#d8576b\"],[0.6666666666666666,\"#ed7953\"],[0.7777777777777778,\"#fb9f3a\"],[0.8888888888888888,\"#fdca26\"],[1.0,\"#f0f921\"]]}],\"choropleth\":[{\"type\":\"choropleth\",\"colorbar\":{\"outlinewidth\":0,\"ticks\":\"\"}}],\"histogram2d\":[{\"type\":\"histogram2d\",\"colorbar\":{\"outlinewidth\":0,\"ticks\":\"\"},\"colorscale\":[[0.0,\"#0d0887\"],[0.1111111111111111,\"#46039f\"],[0.2222222222222222,\"#7201a8\"],[0.3333333333333333,\"#9c179e\"],[0.4444444444444444,\"#bd3786\"],[0.5555555555555556,\"#d8576b\"],[0.6666666666666666,\"#ed7953\"],[0.7777777777777778,\"#fb9f3a\"],[0.8888888888888888,\"#fdca26\"],[1.0,\"#f0f921\"]]}],\"heatmap\":[{\"type\":\"heatmap\",\"colorbar\":{\"outlinewidth\":0,\"ticks\":\"\"},\"colorscale\":[[0.0,\"#0d0887\"],[0.1111111111111111,\"#46039f\"],[0.2222222222222222,\"#7201a8\"],[0.3333333333333333,\"#9c179e\"],[0.4444444444444444,\"#bd3786\"],[0.5555555555555556,\"#d8576b\"],[0.6666666666666666,\"#ed7953\"],[0.7777777777777778,\"#fb9f3a\"],[0.8888888888888888,\"#fdca26\"],[1.0,\"#f0f921\"]]}],\"heatmapgl\":[{\"type\":\"heatmapgl\",\"colorbar\":{\"outlinewidth\":0,\"ticks\":\"\"},\"colorscale\":[[0.0,\"#0d0887\"],[0.1111111111111111,\"#46039f\"],[0.2222222222222222,\"#7201a8\"],[0.3333333333333333,\"#9c179e\"],[0.4444444444444444,\"#bd3786\"],[0.5555555555555556,\"#d8576b\"],[0.6666666666666666,\"#ed7953\"],[0.7777777777777778,\"#fb9f3a\"],[0.8888888888888888,\"#fdca26\"],[1.0,\"#f0f921\"]]}],\"contourcarpet\":[{\"type\":\"contourcarpet\",\"colorbar\":{\"outlinewidth\":0,\"ticks\":\"\"}}],\"contour\":[{\"type\":\"contour\",\"colorbar\":{\"outlinewidth\":0,\"ticks\":\"\"},\"colorscale\":[[0.0,\"#0d0887\"],[0.1111111111111111,\"#46039f\"],[0.2222222222222222,\"#7201a8\"],[0.3333333333333333,\"#9c179e\"],[0.4444444444444444,\"#bd3786\"],[0.5555555555555556,\"#d8576b\"],[0.6666666666666666,\"#ed7953\"],[0.7777777777777778,\"#fb9f3a\"],[0.8888888888888888,\"#fdca26\"],[1.0,\"#f0f921\"]]}],\"surface\":[{\"type\":\"surface\",\"colorbar\":{\"outlinewidth\":0,\"ticks\":\"\"},\"colorscale\":[[0.0,\"#0d0887\"],[0.1111111111111111,\"#46039f\"],[0.2222222222222222,\"#7201a8\"],[0.3333333333333333,\"#9c179e\"],[0.4444444444444444,\"#bd3786\"],[0.5555555555555556,\"#d8576b\"],[0.6666666666666666,\"#ed7953\"],[0.7777777777777778,\"#fb9f3a\"],[0.8888888888888888,\"#fdca26\"],[1.0,\"#f0f921\"]]}],\"mesh3d\":[{\"type\":\"mesh3d\",\"colorbar\":{\"outlinewidth\":0,\"ticks\":\"\"}}],\"scatter\":[{\"fillpattern\":{\"fillmode\":\"overlay\",\"size\":10,\"solidity\":0.2},\"type\":\"scatter\"}],\"parcoords\":[{\"type\":\"parcoords\",\"line\":{\"colorbar\":{\"outlinewidth\":0,\"ticks\":\"\"}}}],\"scatterpolargl\":[{\"type\":\"scatterpolargl\",\"marker\":{\"colorbar\":{\"outlinewidth\":0,\"ticks\":\"\"}}}],\"bar\":[{\"error_x\":{\"color\":\"#2a3f5f\"},\"error_y\":{\"color\":\"#2a3f5f\"},\"marker\":{\"line\":{\"color\":\"#E5ECF6\",\"width\":0.5},\"pattern\":{\"fillmode\":\"overlay\",\"size\":10,\"solidity\":0.2}},\"type\":\"bar\"}],\"scattergeo\":[{\"type\":\"scattergeo\",\"marker\":{\"colorbar\":{\"outlinewidth\":0,\"ticks\":\"\"}}}],\"scatterpolar\":[{\"type\":\"scatterpolar\",\"marker\":{\"colorbar\":{\"outlinewidth\":0,\"ticks\":\"\"}}}],\"histogram\":[{\"marker\":{\"pattern\":{\"fillmode\":\"overlay\",\"size\":10,\"solidity\":0.2}},\"type\":\"histogram\"}],\"scattergl\":[{\"type\":\"scattergl\",\"marker\":{\"colorbar\":{\"outlinewidth\":0,\"ticks\":\"\"}}}],\"scatter3d\":[{\"type\":\"scatter3d\",\"line\":{\"colorbar\":{\"outlinewidth\":0,\"ticks\":\"\"}},\"marker\":{\"colorbar\":{\"outlinewidth\":0,\"ticks\":\"\"}}}],\"scattermapbox\":[{\"type\":\"scattermapbox\",\"marker\":{\"colorbar\":{\"outlinewidth\":0,\"ticks\":\"\"}}}],\"scatterternary\":[{\"type\":\"scatterternary\",\"marker\":{\"colorbar\":{\"outlinewidth\":0,\"ticks\":\"\"}}}],\"scattercarpet\":[{\"type\":\"scattercarpet\",\"marker\":{\"colorbar\":{\"outlinewidth\":0,\"ticks\":\"\"}}}],\"carpet\":[{\"aaxis\":{\"endlinecolor\":\"#2a3f5f\",\"gridcolor\":\"white\",\"linecolor\":\"white\",\"minorgridcolor\":\"white\",\"startlinecolor\":\"#2a3f5f\"},\"baxis\":{\"endlinecolor\":\"#2a3f5f\",\"gridcolor\":\"white\",\"linecolor\":\"white\",\"minorgridcolor\":\"white\",\"startlinecolor\":\"#2a3f5f\"},\"type\":\"carpet\"}],\"table\":[{\"cells\":{\"fill\":{\"color\":\"#EBF0F8\"},\"line\":{\"color\":\"white\"}},\"header\":{\"fill\":{\"color\":\"#C8D4E3\"},\"line\":{\"color\":\"white\"}},\"type\":\"table\"}],\"barpolar\":[{\"marker\":{\"line\":{\"color\":\"#E5ECF6\",\"width\":0.5},\"pattern\":{\"fillmode\":\"overlay\",\"size\":10,\"solidity\":0.2}},\"type\":\"barpolar\"}],\"pie\":[{\"automargin\":true,\"type\":\"pie\"}]},\"layout\":{\"autotypenumbers\":\"strict\",\"colorway\":[\"#636efa\",\"#EF553B\",\"#00cc96\",\"#ab63fa\",\"#FFA15A\",\"#19d3f3\",\"#FF6692\",\"#B6E880\",\"#FF97FF\",\"#FECB52\"],\"font\":{\"color\":\"#2a3f5f\"},\"hovermode\":\"closest\",\"hoverlabel\":{\"align\":\"left\"},\"paper_bgcolor\":\"white\",\"plot_bgcolor\":\"#E5ECF6\",\"polar\":{\"bgcolor\":\"#E5ECF6\",\"angularaxis\":{\"gridcolor\":\"white\",\"linecolor\":\"white\",\"ticks\":\"\"},\"radialaxis\":{\"gridcolor\":\"white\",\"linecolor\":\"white\",\"ticks\":\"\"}},\"ternary\":{\"bgcolor\":\"#E5ECF6\",\"aaxis\":{\"gridcolor\":\"white\",\"linecolor\":\"white\",\"ticks\":\"\"},\"baxis\":{\"gridcolor\":\"white\",\"linecolor\":\"white\",\"ticks\":\"\"},\"caxis\":{\"gridcolor\":\"white\",\"linecolor\":\"white\",\"ticks\":\"\"}},\"coloraxis\":{\"colorbar\":{\"outlinewidth\":0,\"ticks\":\"\"}},\"colorscale\":{\"sequential\":[[0.0,\"#0d0887\"],[0.1111111111111111,\"#46039f\"],[0.2222222222222222,\"#7201a8\"],[0.3333333333333333,\"#9c179e\"],[0.4444444444444444,\"#bd3786\"],[0.5555555555555556,\"#d8576b\"],[0.6666666666666666,\"#ed7953\"],[0.7777777777777778,\"#fb9f3a\"],[0.8888888888888888,\"#fdca26\"],[1.0,\"#f0f921\"]],\"sequentialminus\":[[0.0,\"#0d0887\"],[0.1111111111111111,\"#46039f\"],[0.2222222222222222,\"#7201a8\"],[0.3333333333333333,\"#9c179e\"],[0.4444444444444444,\"#bd3786\"],[0.5555555555555556,\"#d8576b\"],[0.6666666666666666,\"#ed7953\"],[0.7777777777777778,\"#fb9f3a\"],[0.8888888888888888,\"#fdca26\"],[1.0,\"#f0f921\"]],\"diverging\":[[0,\"#8e0152\"],[0.1,\"#c51b7d\"],[0.2,\"#de77ae\"],[0.3,\"#f1b6da\"],[0.4,\"#fde0ef\"],[0.5,\"#f7f7f7\"],[0.6,\"#e6f5d0\"],[0.7,\"#b8e186\"],[0.8,\"#7fbc41\"],[0.9,\"#4d9221\"],[1,\"#276419\"]]},\"xaxis\":{\"gridcolor\":\"white\",\"linecolor\":\"white\",\"ticks\":\"\",\"title\":{\"standoff\":15},\"zerolinecolor\":\"white\",\"automargin\":true,\"zerolinewidth\":2},\"yaxis\":{\"gridcolor\":\"white\",\"linecolor\":\"white\",\"ticks\":\"\",\"title\":{\"standoff\":15},\"zerolinecolor\":\"white\",\"automargin\":true,\"zerolinewidth\":2},\"scene\":{\"xaxis\":{\"backgroundcolor\":\"#E5ECF6\",\"gridcolor\":\"white\",\"linecolor\":\"white\",\"showbackground\":true,\"ticks\":\"\",\"zerolinecolor\":\"white\",\"gridwidth\":2},\"yaxis\":{\"backgroundcolor\":\"#E5ECF6\",\"gridcolor\":\"white\",\"linecolor\":\"white\",\"showbackground\":true,\"ticks\":\"\",\"zerolinecolor\":\"white\",\"gridwidth\":2},\"zaxis\":{\"backgroundcolor\":\"#E5ECF6\",\"gridcolor\":\"white\",\"linecolor\":\"white\",\"showbackground\":true,\"ticks\":\"\",\"zerolinecolor\":\"white\",\"gridwidth\":2}},\"shapedefaults\":{\"line\":{\"color\":\"#2a3f5f\"}},\"annotationdefaults\":{\"arrowcolor\":\"#2a3f5f\",\"arrowhead\":0,\"arrowwidth\":1},\"geo\":{\"bgcolor\":\"white\",\"landcolor\":\"#E5ECF6\",\"subunitcolor\":\"white\",\"showland\":true,\"showlakes\":true,\"lakecolor\":\"white\"},\"title\":{\"x\":0.05},\"mapbox\":{\"style\":\"light\"}}},\"xaxis\":{\"anchor\":\"y\",\"domain\":[0.0,1.0],\"title\":{\"text\":\"Period\"}},\"yaxis\":{\"anchor\":\"x\",\"domain\":[0.0,1.0],\"title\":{\"text\":\"count\"}},\"legend\":{\"tracegroupgap\":0},\"margin\":{\"t\":60},\"barmode\":\"relative\"},                        {\"responsive\": true}                    ).then(function(){\n",
              "                            \n",
              "var gd = document.getElementById('d69f7694-de37-4d0f-a162-d16883c10d3a');\n",
              "var x = new MutationObserver(function (mutations, observer) {{\n",
              "        var display = window.getComputedStyle(gd).display;\n",
              "        if (!display || display === 'none') {{\n",
              "            console.log([gd, 'removed!']);\n",
              "            Plotly.purge(gd);\n",
              "            observer.disconnect();\n",
              "        }}\n",
              "}});\n",
              "\n",
              "// Listen for the removal of the full notebook cells\n",
              "var notebookContainer = gd.closest('#notebook-container');\n",
              "if (notebookContainer) {{\n",
              "    x.observe(notebookContainer, {childList: true});\n",
              "}}\n",
              "\n",
              "// Listen for the clearing of the current output cell\n",
              "var outputEl = gd.closest('.output');\n",
              "if (outputEl) {{\n",
              "    x.observe(outputEl, {childList: true});\n",
              "}}\n",
              "\n",
              "                        })                };                            </script>        </div>\n",
              "</body>\n",
              "</html>"
            ]
          },
          "metadata": {}
        }
      ]
    },
    {
      "cell_type": "code",
      "source": [
        "import plotly.express as px\n",
        "fig = px.histogram(valid_df, x=\"Biblical_Hebrew_era\")\n",
        "fig.show()"
      ],
      "metadata": {
        "colab": {
          "base_uri": "https://localhost:8080/",
          "height": 542
        },
        "id": "1_IEhgi5EHKV",
        "outputId": "965b9224-4025-415d-bb51-c648d363fcfd"
      },
      "execution_count": 12,
      "outputs": [
        {
          "output_type": "display_data",
          "data": {
            "text/html": [
              "<html>\n",
              "<head><meta charset=\"utf-8\" /></head>\n",
              "<body>\n",
              "    <div>            <script src=\"https://cdnjs.cloudflare.com/ajax/libs/mathjax/2.7.5/MathJax.js?config=TeX-AMS-MML_SVG\"></script><script type=\"text/javascript\">if (window.MathJax && window.MathJax.Hub && window.MathJax.Hub.Config) {window.MathJax.Hub.Config({SVG: {font: \"STIX-Web\"}});}</script>                <script type=\"text/javascript\">window.PlotlyConfig = {MathJaxConfig: 'local'};</script>\n",
              "        <script src=\"https://cdn.plot.ly/plotly-2.18.2.min.js\"></script>                <div id=\"2ac396dd-259b-4590-90c6-cca4bbee72ff\" class=\"plotly-graph-div\" style=\"height:525px; width:100%;\"></div>            <script type=\"text/javascript\">                                    window.PLOTLYENV=window.PLOTLYENV || {};                                    if (document.getElementById(\"2ac396dd-259b-4590-90c6-cca4bbee72ff\")) {                    Plotly.newPlot(                        \"2ac396dd-259b-4590-90c6-cca4bbee72ff\",                        [{\"alignmentgroup\":\"True\",\"bingroup\":\"x\",\"hovertemplate\":\"Biblical_Hebrew_era=%{x}<br>count=%{y}<extra></extra>\",\"legendgroup\":\"\",\"marker\":{\"color\":\"#636efa\",\"pattern\":{\"shape\":\"\"}},\"name\":\"\",\"offsetgroup\":\"\",\"orientation\":\"v\",\"showlegend\":false,\"x\":[\"Classical Biblical Hebrew\",\"Classical Biblical Hebrew\",\"Classical Biblical Hebrew\",\"Classical Biblical Hebrew\",\"Classical Biblical Hebrew\",\"Classical Biblical Hebrew\",\"Classical Biblical Hebrew\",\"Classical Biblical Hebrew\",\"Classical Biblical Hebrew\",\"Classical Biblical Hebrew\",\"Classical Biblical Hebrew\",\"Classical Biblical Hebrew\",\"Classical Biblical Hebrew\",\"Classical Biblical Hebrew\",\"Classical Biblical Hebrew\",\"Classical Biblical Hebrew\",\"Classical Biblical Hebrew\",\"Classical Biblical Hebrew\",\"Classical Biblical Hebrew\",\"Classical Biblical Hebrew\",\"Classical Biblical Hebrew\",\"Classical Biblical Hebrew\",\"Classical Biblical Hebrew\",\"Classical Biblical Hebrew\",\"Classical Biblical Hebrew\",\"Classical Biblical Hebrew\",\"Classical Biblical Hebrew\",\"Classical Biblical Hebrew\",\"Classical Biblical Hebrew\",\"Classical Biblical Hebrew\",\"Classical Biblical Hebrew\",\"Classical Biblical Hebrew\",\"Classical Biblical Hebrew\",\"Classical Biblical Hebrew\",\"Classical Biblical Hebrew\",\"Classical Biblical Hebrew\",\"Classical Biblical Hebrew\",\"Classical Biblical Hebrew\",\"Classical Biblical Hebrew\",\"Classical Biblical Hebrew\",\"Late Biblical Hebrew\",\"Late Biblical Hebrew\",\"Late Biblical Hebrew\",\"Late Biblical Hebrew\",\"Late Biblical Hebrew\",\"Late Biblical Hebrew\",\"Late Biblical Hebrew\",\"Late Biblical Hebrew\",\"Classical Biblical Hebrew\",\"Classical Biblical Hebrew\",\"Classical Biblical Hebrew\",\"Classical Biblical Hebrew\",\"Classical Biblical Hebrew\",\"Classical Biblical Hebrew\",\"Classical Biblical Hebrew\",\"Classical Biblical Hebrew\",\"Classical Biblical Hebrew\",\"Classical Biblical Hebrew\",\"Classical Biblical Hebrew\",\"Classical Biblical Hebrew\",\"Classical Biblical Hebrew\",\"Classical Biblical Hebrew\",\"Classical Biblical Hebrew\",\"Classical Biblical Hebrew\",\"Classical Biblical Hebrew\",\"Classical Biblical Hebrew\",\"Classical Biblical Hebrew\",\"Classical Biblical Hebrew\",\"Classical Biblical Hebrew\",\"Classical Biblical Hebrew\",\"Classical Biblical Hebrew\",\"Classical Biblical Hebrew\",\"Classical Biblical Hebrew\",\"Classical Biblical Hebrew\",\"Classical Biblical Hebrew\",\"Classical Biblical Hebrew\",\"Classical Biblical Hebrew\",\"Classical Biblical Hebrew\",\"Classical Biblical Hebrew\",\"Classical Biblical Hebrew\",\"Late Biblical Hebrew\",\"Late Biblical Hebrew\",\"Late Biblical Hebrew\",\"Late Biblical Hebrew\",\"Late Biblical Hebrew\",\"Late Biblical Hebrew\",\"Classical Biblical Hebrew\",\"Classical Biblical Hebrew\",\"Classical Biblical Hebrew\",\"Classical Biblical Hebrew\",\"Classical Biblical Hebrew\",\"Classical Biblical Hebrew\",\"Classical Biblical Hebrew\",\"Classical Biblical Hebrew\",\"Classical Biblical Hebrew\",\"Classical Biblical Hebrew\",\"Classical Biblical Hebrew\",\"Classical Biblical Hebrew\",\"Classical Biblical Hebrew\",\"Classical Biblical Hebrew\",\"Classical Biblical Hebrew\",\"Classical Biblical Hebrew\",\"Classical Biblical Hebrew\",\"TBD\",\"TBD\",\"TBD\",\"TBD\",\"TBD\",\"TBD\",\"TBD\",\"TBD\",\"TBD\",\"TBD\",\"TBD\",\"TBD\",\"TBD\",\"TBD\",\"TBD\",\"Transitional period between the classical language and the later language\",\"Transitional period between the classical language and the later language\",\"Transitional period between the classical language and the later language\",\"Transitional period between the classical language and the later language\",\"Transitional period between the classical language and the later language\",\"Transitional period between the classical language and the later language\",\"Transitional period between the classical language and the later language\",\"Transitional period between the classical language and the later language\",\"Transitional period between the classical language and the later language\",\"Transitional period between the classical language and the later language\",\"Transitional period between the classical language and the later language\",\"Transitional period between the classical language and the later language\",\"Transitional period between the classical language and the later language\",\"Transitional period between the classical language and the later language\",\"Transitional period between the classical language and the later language\",\"Transitional period between the classical language and the later language\",\"Transitional period between the classical language and the later language\",\"Transitional period between the classical language and the later language\",\"Transitional period between the classical language and the later language\",\"Transitional period between the classical language and the later language\",\"Transitional period between the classical language and the later language\",\"Transitional period between the classical language and the later language\",\"Transitional period between the classical language and the later language\",\"Transitional period between the classical language and the later language\",\"Transitional period between the classical language and the later language\",\"Transitional period between the classical language and the later language\",\"Transitional period between the classical language and the later language\",\"Transitional period between the classical language and the later language\",\"Transitional period between the classical language and the later language\",\"TBD\",\"TBD\",\"TBD\",\"TBD\",\"TBD\",\"TBD\",\"TBD\",\"TBD\",\"TBD\",\"TBD\",\"TBD\",\"TBD\",\"TBD\",\"TBD\",\"TBD\",\"Late Biblical Hebrew\",\"Late Biblical Hebrew\",\"Late Biblical Hebrew\",\"Late Biblical Hebrew\",\"Late Biblical Hebrew\",\"TBD\",\"TBD\",\"TBD\",\"TBD\",\"TBD\",\"TBD\",\"TBD\",\"TBD\",\"TBD\",\"TBD\",\"Classical Biblical Hebrew\",\"Classical Biblical Hebrew\",\"Classical Biblical Hebrew\",\"Classical Biblical Hebrew\",\"Classical Biblical Hebrew\",\"Classical Biblical Hebrew\",\"Classical Biblical Hebrew\",\"Classical Biblical Hebrew\",\"Classical Biblical Hebrew\",\"Classical Biblical Hebrew\",\"Classical Biblical Hebrew\",\"Classical Biblical Hebrew\",\"Classical Biblical Hebrew\",\"Classical Biblical Hebrew\",\"Classical Biblical Hebrew\",\"Classical Biblical Hebrew\",\"Classical Biblical Hebrew\",\"Classical Biblical Hebrew\",\"Classical Biblical Hebrew\",\"Classical Biblical Hebrew\",\"Classical Biblical Hebrew\",\"Classical Biblical Hebrew\",\"Classical Biblical Hebrew\",\"Classical Biblical Hebrew\",\"Classical Biblical Hebrew\",\"Classical Biblical Hebrew\",\"Classical Biblical Hebrew\",\"Classical Biblical Hebrew\",\"Classical Biblical Hebrew\",\"Classical Biblical Hebrew\",\"Classical Biblical Hebrew\",\"Classical Biblical Hebrew\",\"Late Biblical Hebrew\",\"Late Biblical Hebrew\",\"Late Biblical Hebrew\",\"Late Biblical Hebrew\",\"Late Biblical Hebrew\",\"Late Biblical Hebrew\",\"Late Biblical Hebrew\",\"Late Biblical Hebrew\",\"Late Biblical Hebrew\",\"Late Biblical Hebrew\",\"TBD\",\"TBD\",\"TBD\",\"TBD\",\"TBD\",\"TBD\",\"TBD\",\"TBD\",\"TBD\",\"TBD\",\"TBD\",\"TBD\",\"TBD\",\"TBD\",\"TBD\",\"TBD\",\"TBD\",\"TBD\",\"TBD\",\"Classical Biblical Hebrew\",\"Classical Biblical Hebrew\",\"Classical Biblical Hebrew\",\"Classical Biblical Hebrew\",\"Classical Biblical Hebrew\",\"Classical Biblical Hebrew\",\"Classical Biblical Hebrew\",\"Classical Biblical Hebrew\",\"Classical Biblical Hebrew\",\"Classical Biblical Hebrew\",\"Classical Biblical Hebrew\",\"Classical Biblical Hebrew\",\"Classical Biblical Hebrew\",\"Classical Biblical Hebrew\",\"Classical Biblical Hebrew\",\"Classical Biblical Hebrew\",\"Classical Biblical Hebrew\",\"Classical Biblical Hebrew\",\"Classical Biblical Hebrew\",\"Classical Biblical Hebrew\",\"Classical Biblical Hebrew\",\"Classical Biblical Hebrew\",\"Classical Biblical Hebrew\",\"Classical Biblical Hebrew\",\"Classical Biblical Hebrew\",\"Classical Biblical Hebrew\",\"Classical Biblical Hebrew\",\"Classical Biblical Hebrew\",\"Classical Biblical Hebrew\",\"Classical Biblical Hebrew\",\"Classical Biblical Hebrew\",\"Classical Biblical Hebrew\",\"Classical Biblical Hebrew\",\"TBD\",\"TBD\",\"TBD\",\"TBD\",\"TBD\",\"TBD\",\"TBD\",\"TBD\",\"TBD\",\"TBD\",\"TBD\",\"TBD\",\"TBD\",\"TBD\",\"TBD\",\"TBD\",\"TBD\",\"TBD\",\"TBD\",\"TBD\",\"TBD\",\"TBD\",\"TBD\",\"Classical Biblical Hebrew\",\"Classical Biblical Hebrew\",\"Classical Biblical Hebrew\",\"Classical Biblical Hebrew\",\"Classical Biblical Hebrew\",\"Classical Biblical Hebrew\",\"Classical Biblical Hebrew\",\"Classical Biblical Hebrew\",\"Classical Biblical Hebrew\",\"Classical Biblical Hebrew\",\"Classical Biblical Hebrew\",\"Classical Biblical Hebrew\",\"Classical Biblical Hebrew\",\"Classical Biblical Hebrew\",\"Classical Biblical Hebrew\",\"Classical Biblical Hebrew\",\"Classical Biblical Hebrew\",\"Classical Biblical Hebrew\",\"Classical Biblical Hebrew\",\"Classical Biblical Hebrew\",\"Late Biblical Hebrew\",\"Late Biblical Hebrew\",\"Late Biblical Hebrew\",\"Late Biblical Hebrew\",\"Late Biblical Hebrew\",\"Late Biblical Hebrew\",\"Late Biblical Hebrew\",\"Classical Biblical Hebrew\",\"Classical Biblical Hebrew\",\"Classical Biblical Hebrew\",\"Classical Biblical Hebrew\",\"Classical Biblical Hebrew\",\"Classical Biblical Hebrew\",\"Classical Biblical Hebrew\",\"Classical Biblical Hebrew\",\"Classical Biblical Hebrew\",\"Classical Biblical Hebrew\",\"Classical Biblical Hebrew\",\"Classical Biblical Hebrew\",\"Classical Biblical Hebrew\",\"Classical Biblical Hebrew\",\"Classical Biblical Hebrew\",\"Classical Biblical Hebrew\",\"Classical Biblical Hebrew\",\"Classical Biblical Hebrew\",\"Classical Biblical Hebrew\",\"Classical Biblical Hebrew\",\"Classical Biblical Hebrew\",\"Classical Biblical Hebrew\",\"Classical Biblical Hebrew\",\"Classical Biblical Hebrew\",\"Classical Biblical Hebrew\",\"Classical Biblical Hebrew\",\"Classical Biblical Hebrew\",\"Late Biblical Hebrew\",\"Late Biblical Hebrew\",\"Late Biblical Hebrew\",\"Late Biblical Hebrew\",\"Late Biblical Hebrew\",\"Late Biblical Hebrew\",\"Late Biblical Hebrew\",\"Late Biblical Hebrew\",\"Late Biblical Hebrew\",\"Late Biblical Hebrew\",\"Late Biblical Hebrew\",\"Late Biblical Hebrew\",\"Late Biblical Hebrew\",\"Late Biblical Hebrew\",\"Late Biblical Hebrew\",\"Late Biblical Hebrew\",\"Late Biblical Hebrew\",\"Late Biblical Hebrew\",\"Late Biblical Hebrew\",\"Late Biblical Hebrew\",\"Transitional period between the classical language and the later language\",\"Transitional period between the classical language and the later language\",\"Transitional period between the classical language and the later language\",\"Transitional period between the classical language and the later language\",\"Transitional period between the classical language and the later language\",\"Transitional period between the classical language and the later language\",\"Transitional period between the classical language and the later language\",\"Transitional period between the classical language and the later language\",\"Transitional period between the classical language and the later language\",\"Transitional period between the classical language and the later language\",\"Transitional period between the classical language and the later language\",\"Transitional period between the classical language and the later language\",\"Transitional period between the classical language and the later language\",\"Transitional period between the classical language and the later language\",\"Transitional period between the classical language and the later language\",\"Transitional period between the classical language and the later language\",\"Transitional period between the classical language and the later language\",\"Transitional period between the classical language and the later language\",\"Transitional period between the classical language and the later language\",\"Transitional period between the classical language and the later language\",\"Transitional period between the classical language and the later language\",\"Transitional period between the classical language and the later language\",\"Transitional period between the classical language and the later language\",\"Transitional period between the classical language and the later language\",\"Transitional period between the classical language and the later language\",\"Transitional period between the classical language and the later language\",\"Transitional period between the classical language and the later language\",\"TBD\",\"TBD\",\"TBD\",\"TBD\",\"TBD\",\"TBD\",\"TBD\",\"TBD\",\"TBD\",\"TBD\",\"TBD\",\"TBD\",\"TBD\",\"TBD\",\"TBD\",\"TBD\",\"TBD\",\"TBD\",\"TBD\",\"TBD\",\"TBD\",\"TBD\",\"TBD\",\"TBD\",\"TBD\",\"TBD\",\"TBD\",\"TBD\",\"TBD\",\"TBD\",\"TBD\",\"TBD\",\"TBD\",\"TBD\",\"TBD\",\"TBD\",\"TBD\",\"TBD\",\"TBD\",\"TBD\",\"TBD\",\"TBD\",\"TBD\",\"TBD\",\"TBD\",\"TBD\",\"TBD\",\"TBD\",\"TBD\",\"TBD\",\"TBD\",\"TBD\",\"TBD\",\"TBD\",\"TBD\",\"TBD\",\"TBD\",\"TBD\",\"TBD\",\"TBD\",\"TBD\",\"TBD\",\"TBD\",\"TBD\",\"TBD\",\"TBD\",\"TBD\",\"TBD\",\"TBD\",\"Late Biblical Hebrew\",\"Late Biblical Hebrew\",\"Late Biblical Hebrew\",\"Late Biblical Hebrew\",\"Late Biblical Hebrew\",\"Late Biblical Hebrew\",\"Late Biblical Hebrew\",\"Late Biblical Hebrew\",\"Late Biblical Hebrew\",\"Late Biblical Hebrew\",\"Late Biblical Hebrew\",\"Late Biblical Hebrew\",\"Late Biblical Hebrew\",\"Late Biblical Hebrew\",\"Late Biblical Hebrew\",\"Late Biblical Hebrew\",\"Late Biblical Hebrew\",\"Late Biblical Hebrew\",\"Late Biblical Hebrew\",\"Late Biblical Hebrew\",\"Late Biblical Hebrew\",\"Late Biblical Hebrew\",\"Late Biblical Hebrew\",\"Late Biblical Hebrew\",\"Late Biblical Hebrew\",\"Late Biblical Hebrew\",\"Late Biblical Hebrew\",\"Late Biblical Hebrew\",\"Late Biblical Hebrew\",\"Late Biblical Hebrew\",\"Late Biblical Hebrew\",\"Late Biblical Hebrew\",\"Classical Biblical Hebrew\",\"Classical Biblical Hebrew\",\"Classical Biblical Hebrew\",\"Classical Biblical Hebrew\",\"Classical Biblical Hebrew\",\"Classical Biblical Hebrew\",\"Classical Biblical Hebrew\",\"Classical Biblical Hebrew\",\"Classical Biblical Hebrew\",\"Classical Biblical Hebrew\",\"Classical Biblical Hebrew\",\"Classical Biblical Hebrew\",\"Classical Biblical Hebrew\",\"Classical Biblical Hebrew\",\"Classical Biblical Hebrew\",\"Classical Biblical Hebrew\",\"Classical Biblical Hebrew\",\"Classical Biblical Hebrew\",\"Classical Biblical Hebrew\",\"Classical Biblical Hebrew\",\"Classical Biblical Hebrew\",\"Classical Biblical Hebrew\",\"Classical Biblical Hebrew\",\"Classical Biblical Hebrew\",\"Classical Biblical Hebrew\",\"Classical Biblical Hebrew\",\"Classical Biblical Hebrew\",\"Classical Biblical Hebrew\",\"Classical Biblical Hebrew\",\"Classical Biblical Hebrew\",\"Classical Biblical Hebrew\",\"Classical Biblical Hebrew\",\"Classical Biblical Hebrew\",\"Classical Biblical Hebrew\",\"Classical Biblical Hebrew\",\"Classical Biblical Hebrew\",\"Classical Biblical Hebrew\",\"Classical Biblical Hebrew\",\"Classical Biblical Hebrew\",\"Classical Biblical Hebrew\"],\"xaxis\":\"x\",\"yaxis\":\"y\",\"type\":\"histogram\"}],                        {\"template\":{\"data\":{\"histogram2dcontour\":[{\"type\":\"histogram2dcontour\",\"colorbar\":{\"outlinewidth\":0,\"ticks\":\"\"},\"colorscale\":[[0.0,\"#0d0887\"],[0.1111111111111111,\"#46039f\"],[0.2222222222222222,\"#7201a8\"],[0.3333333333333333,\"#9c179e\"],[0.4444444444444444,\"#bd3786\"],[0.5555555555555556,\"#d8576b\"],[0.6666666666666666,\"#ed7953\"],[0.7777777777777778,\"#fb9f3a\"],[0.8888888888888888,\"#fdca26\"],[1.0,\"#f0f921\"]]}],\"choropleth\":[{\"type\":\"choropleth\",\"colorbar\":{\"outlinewidth\":0,\"ticks\":\"\"}}],\"histogram2d\":[{\"type\":\"histogram2d\",\"colorbar\":{\"outlinewidth\":0,\"ticks\":\"\"},\"colorscale\":[[0.0,\"#0d0887\"],[0.1111111111111111,\"#46039f\"],[0.2222222222222222,\"#7201a8\"],[0.3333333333333333,\"#9c179e\"],[0.4444444444444444,\"#bd3786\"],[0.5555555555555556,\"#d8576b\"],[0.6666666666666666,\"#ed7953\"],[0.7777777777777778,\"#fb9f3a\"],[0.8888888888888888,\"#fdca26\"],[1.0,\"#f0f921\"]]}],\"heatmap\":[{\"type\":\"heatmap\",\"colorbar\":{\"outlinewidth\":0,\"ticks\":\"\"},\"colorscale\":[[0.0,\"#0d0887\"],[0.1111111111111111,\"#46039f\"],[0.2222222222222222,\"#7201a8\"],[0.3333333333333333,\"#9c179e\"],[0.4444444444444444,\"#bd3786\"],[0.5555555555555556,\"#d8576b\"],[0.6666666666666666,\"#ed7953\"],[0.7777777777777778,\"#fb9f3a\"],[0.8888888888888888,\"#fdca26\"],[1.0,\"#f0f921\"]]}],\"heatmapgl\":[{\"type\":\"heatmapgl\",\"colorbar\":{\"outlinewidth\":0,\"ticks\":\"\"},\"colorscale\":[[0.0,\"#0d0887\"],[0.1111111111111111,\"#46039f\"],[0.2222222222222222,\"#7201a8\"],[0.3333333333333333,\"#9c179e\"],[0.4444444444444444,\"#bd3786\"],[0.5555555555555556,\"#d8576b\"],[0.6666666666666666,\"#ed7953\"],[0.7777777777777778,\"#fb9f3a\"],[0.8888888888888888,\"#fdca26\"],[1.0,\"#f0f921\"]]}],\"contourcarpet\":[{\"type\":\"contourcarpet\",\"colorbar\":{\"outlinewidth\":0,\"ticks\":\"\"}}],\"contour\":[{\"type\":\"contour\",\"colorbar\":{\"outlinewidth\":0,\"ticks\":\"\"},\"colorscale\":[[0.0,\"#0d0887\"],[0.1111111111111111,\"#46039f\"],[0.2222222222222222,\"#7201a8\"],[0.3333333333333333,\"#9c179e\"],[0.4444444444444444,\"#bd3786\"],[0.5555555555555556,\"#d8576b\"],[0.6666666666666666,\"#ed7953\"],[0.7777777777777778,\"#fb9f3a\"],[0.8888888888888888,\"#fdca26\"],[1.0,\"#f0f921\"]]}],\"surface\":[{\"type\":\"surface\",\"colorbar\":{\"outlinewidth\":0,\"ticks\":\"\"},\"colorscale\":[[0.0,\"#0d0887\"],[0.1111111111111111,\"#46039f\"],[0.2222222222222222,\"#7201a8\"],[0.3333333333333333,\"#9c179e\"],[0.4444444444444444,\"#bd3786\"],[0.5555555555555556,\"#d8576b\"],[0.6666666666666666,\"#ed7953\"],[0.7777777777777778,\"#fb9f3a\"],[0.8888888888888888,\"#fdca26\"],[1.0,\"#f0f921\"]]}],\"mesh3d\":[{\"type\":\"mesh3d\",\"colorbar\":{\"outlinewidth\":0,\"ticks\":\"\"}}],\"scatter\":[{\"fillpattern\":{\"fillmode\":\"overlay\",\"size\":10,\"solidity\":0.2},\"type\":\"scatter\"}],\"parcoords\":[{\"type\":\"parcoords\",\"line\":{\"colorbar\":{\"outlinewidth\":0,\"ticks\":\"\"}}}],\"scatterpolargl\":[{\"type\":\"scatterpolargl\",\"marker\":{\"colorbar\":{\"outlinewidth\":0,\"ticks\":\"\"}}}],\"bar\":[{\"error_x\":{\"color\":\"#2a3f5f\"},\"error_y\":{\"color\":\"#2a3f5f\"},\"marker\":{\"line\":{\"color\":\"#E5ECF6\",\"width\":0.5},\"pattern\":{\"fillmode\":\"overlay\",\"size\":10,\"solidity\":0.2}},\"type\":\"bar\"}],\"scattergeo\":[{\"type\":\"scattergeo\",\"marker\":{\"colorbar\":{\"outlinewidth\":0,\"ticks\":\"\"}}}],\"scatterpolar\":[{\"type\":\"scatterpolar\",\"marker\":{\"colorbar\":{\"outlinewidth\":0,\"ticks\":\"\"}}}],\"histogram\":[{\"marker\":{\"pattern\":{\"fillmode\":\"overlay\",\"size\":10,\"solidity\":0.2}},\"type\":\"histogram\"}],\"scattergl\":[{\"type\":\"scattergl\",\"marker\":{\"colorbar\":{\"outlinewidth\":0,\"ticks\":\"\"}}}],\"scatter3d\":[{\"type\":\"scatter3d\",\"line\":{\"colorbar\":{\"outlinewidth\":0,\"ticks\":\"\"}},\"marker\":{\"colorbar\":{\"outlinewidth\":0,\"ticks\":\"\"}}}],\"scattermapbox\":[{\"type\":\"scattermapbox\",\"marker\":{\"colorbar\":{\"outlinewidth\":0,\"ticks\":\"\"}}}],\"scatterternary\":[{\"type\":\"scatterternary\",\"marker\":{\"colorbar\":{\"outlinewidth\":0,\"ticks\":\"\"}}}],\"scattercarpet\":[{\"type\":\"scattercarpet\",\"marker\":{\"colorbar\":{\"outlinewidth\":0,\"ticks\":\"\"}}}],\"carpet\":[{\"aaxis\":{\"endlinecolor\":\"#2a3f5f\",\"gridcolor\":\"white\",\"linecolor\":\"white\",\"minorgridcolor\":\"white\",\"startlinecolor\":\"#2a3f5f\"},\"baxis\":{\"endlinecolor\":\"#2a3f5f\",\"gridcolor\":\"white\",\"linecolor\":\"white\",\"minorgridcolor\":\"white\",\"startlinecolor\":\"#2a3f5f\"},\"type\":\"carpet\"}],\"table\":[{\"cells\":{\"fill\":{\"color\":\"#EBF0F8\"},\"line\":{\"color\":\"white\"}},\"header\":{\"fill\":{\"color\":\"#C8D4E3\"},\"line\":{\"color\":\"white\"}},\"type\":\"table\"}],\"barpolar\":[{\"marker\":{\"line\":{\"color\":\"#E5ECF6\",\"width\":0.5},\"pattern\":{\"fillmode\":\"overlay\",\"size\":10,\"solidity\":0.2}},\"type\":\"barpolar\"}],\"pie\":[{\"automargin\":true,\"type\":\"pie\"}]},\"layout\":{\"autotypenumbers\":\"strict\",\"colorway\":[\"#636efa\",\"#EF553B\",\"#00cc96\",\"#ab63fa\",\"#FFA15A\",\"#19d3f3\",\"#FF6692\",\"#B6E880\",\"#FF97FF\",\"#FECB52\"],\"font\":{\"color\":\"#2a3f5f\"},\"hovermode\":\"closest\",\"hoverlabel\":{\"align\":\"left\"},\"paper_bgcolor\":\"white\",\"plot_bgcolor\":\"#E5ECF6\",\"polar\":{\"bgcolor\":\"#E5ECF6\",\"angularaxis\":{\"gridcolor\":\"white\",\"linecolor\":\"white\",\"ticks\":\"\"},\"radialaxis\":{\"gridcolor\":\"white\",\"linecolor\":\"white\",\"ticks\":\"\"}},\"ternary\":{\"bgcolor\":\"#E5ECF6\",\"aaxis\":{\"gridcolor\":\"white\",\"linecolor\":\"white\",\"ticks\":\"\"},\"baxis\":{\"gridcolor\":\"white\",\"linecolor\":\"white\",\"ticks\":\"\"},\"caxis\":{\"gridcolor\":\"white\",\"linecolor\":\"white\",\"ticks\":\"\"}},\"coloraxis\":{\"colorbar\":{\"outlinewidth\":0,\"ticks\":\"\"}},\"colorscale\":{\"sequential\":[[0.0,\"#0d0887\"],[0.1111111111111111,\"#46039f\"],[0.2222222222222222,\"#7201a8\"],[0.3333333333333333,\"#9c179e\"],[0.4444444444444444,\"#bd3786\"],[0.5555555555555556,\"#d8576b\"],[0.6666666666666666,\"#ed7953\"],[0.7777777777777778,\"#fb9f3a\"],[0.8888888888888888,\"#fdca26\"],[1.0,\"#f0f921\"]],\"sequentialminus\":[[0.0,\"#0d0887\"],[0.1111111111111111,\"#46039f\"],[0.2222222222222222,\"#7201a8\"],[0.3333333333333333,\"#9c179e\"],[0.4444444444444444,\"#bd3786\"],[0.5555555555555556,\"#d8576b\"],[0.6666666666666666,\"#ed7953\"],[0.7777777777777778,\"#fb9f3a\"],[0.8888888888888888,\"#fdca26\"],[1.0,\"#f0f921\"]],\"diverging\":[[0,\"#8e0152\"],[0.1,\"#c51b7d\"],[0.2,\"#de77ae\"],[0.3,\"#f1b6da\"],[0.4,\"#fde0ef\"],[0.5,\"#f7f7f7\"],[0.6,\"#e6f5d0\"],[0.7,\"#b8e186\"],[0.8,\"#7fbc41\"],[0.9,\"#4d9221\"],[1,\"#276419\"]]},\"xaxis\":{\"gridcolor\":\"white\",\"linecolor\":\"white\",\"ticks\":\"\",\"title\":{\"standoff\":15},\"zerolinecolor\":\"white\",\"automargin\":true,\"zerolinewidth\":2},\"yaxis\":{\"gridcolor\":\"white\",\"linecolor\":\"white\",\"ticks\":\"\",\"title\":{\"standoff\":15},\"zerolinecolor\":\"white\",\"automargin\":true,\"zerolinewidth\":2},\"scene\":{\"xaxis\":{\"backgroundcolor\":\"#E5ECF6\",\"gridcolor\":\"white\",\"linecolor\":\"white\",\"showbackground\":true,\"ticks\":\"\",\"zerolinecolor\":\"white\",\"gridwidth\":2},\"yaxis\":{\"backgroundcolor\":\"#E5ECF6\",\"gridcolor\":\"white\",\"linecolor\":\"white\",\"showbackground\":true,\"ticks\":\"\",\"zerolinecolor\":\"white\",\"gridwidth\":2},\"zaxis\":{\"backgroundcolor\":\"#E5ECF6\",\"gridcolor\":\"white\",\"linecolor\":\"white\",\"showbackground\":true,\"ticks\":\"\",\"zerolinecolor\":\"white\",\"gridwidth\":2}},\"shapedefaults\":{\"line\":{\"color\":\"#2a3f5f\"}},\"annotationdefaults\":{\"arrowcolor\":\"#2a3f5f\",\"arrowhead\":0,\"arrowwidth\":1},\"geo\":{\"bgcolor\":\"white\",\"landcolor\":\"#E5ECF6\",\"subunitcolor\":\"white\",\"showland\":true,\"showlakes\":true,\"lakecolor\":\"white\"},\"title\":{\"x\":0.05},\"mapbox\":{\"style\":\"light\"}}},\"xaxis\":{\"anchor\":\"y\",\"domain\":[0.0,1.0],\"title\":{\"text\":\"Biblical_Hebrew_era\"}},\"yaxis\":{\"anchor\":\"x\",\"domain\":[0.0,1.0],\"title\":{\"text\":\"count\"}},\"legend\":{\"tracegroupgap\":0},\"margin\":{\"t\":60},\"barmode\":\"relative\"},                        {\"responsive\": true}                    ).then(function(){\n",
              "                            \n",
              "var gd = document.getElementById('2ac396dd-259b-4590-90c6-cca4bbee72ff');\n",
              "var x = new MutationObserver(function (mutations, observer) {{\n",
              "        var display = window.getComputedStyle(gd).display;\n",
              "        if (!display || display === 'none') {{\n",
              "            console.log([gd, 'removed!']);\n",
              "            Plotly.purge(gd);\n",
              "            observer.disconnect();\n",
              "        }}\n",
              "}});\n",
              "\n",
              "// Listen for the removal of the full notebook cells\n",
              "var notebookContainer = gd.closest('#notebook-container');\n",
              "if (notebookContainer) {{\n",
              "    x.observe(notebookContainer, {childList: true});\n",
              "}}\n",
              "\n",
              "// Listen for the clearing of the current output cell\n",
              "var outputEl = gd.closest('.output');\n",
              "if (outputEl) {{\n",
              "    x.observe(outputEl, {childList: true});\n",
              "}}\n",
              "\n",
              "                        })                };                            </script>        </div>\n",
              "</body>\n",
              "</html>"
            ]
          },
          "metadata": {}
        }
      ]
    },
    {
      "cell_type": "code",
      "source": [
        "import itertools\n",
        "a = list(Biblical_Hebrew_dic.values())\n",
        "Xa=list(itertools.chain.from_iterable(a))\n",
        "print(Xa)\n",
        "b= list(Period_dic.values())\n",
        "Xb=list(itertools.chain.from_iterable(b))\n",
        "print(Xb)"
      ],
      "metadata": {
        "colab": {
          "base_uri": "https://localhost:8080/"
        },
        "id": "Rn7Wvgf7AQIP",
        "outputId": "a40e472e-ea9d-4d33-8fae-142a9b8644b8"
      },
      "execution_count": 13,
      "outputs": [
        {
          "output_type": "stream",
          "name": "stdout",
          "text": [
            "['Genesis', 'Exodus', 'Leviticus', 'Numbers', 'Deuteronomy', 'Joshua', 'Judges', 'Samuel_1', 'Samuel_2', 'Kings_1', 'Kings_2', 'Isaiah', 'Jeremiah', 'Ezekiel', 'Ezra', 'Nehemiah', 'Esther', 'Daniel', 'Chronicles_1', 'Chronicles_2', 'Haggai', 'Zechariah', 'Malachi', 'Song_of_Songs', 'Ecclesiastes']\n",
            "['Hosea', 'Nahum', 'Zephaniah', 'Habakkuk', 'Isaiah', 'Judges', 'Samuel_1', 'Samuel_2', 'Kings_1', 'Kings_2', 'Micah', 'Proverbs', 'Deuteronomy', 'Psalms', 'Amos', 'Joshua', 'Obadiah', 'Lamentations', 'Ezekiel', 'Jeremiah', 'Genesis', 'Exodus', 'Leviticus', 'Numbers', 'Ruth', 'Haggai', 'Zechariah', 'Malachi', 'Chronicles_1', 'Chronicles_2', 'Ezra', 'Nehemiah', 'Joel', 'Job', 'Ecclesiastes', 'Song_of_Songs', 'Jonah', 'Esther', 'Daniel']\n"
          ]
        }
      ]
    },
    {
      "cell_type": "code",
      "source": [
        "print(\"not in Biblical_Hebrew_dic\")\n",
        "for name in valid_df.name.unique():\n",
        "  if(name not in Xa):\n",
        "    print(name)\n",
        "print(\"--------------------------------\") \n",
        "print(\"not in Period_dic\")\n",
        "for name in valid_df.name.unique():\n",
        "  if(name not in Xb):\n",
        "    print(name)"
      ],
      "metadata": {
        "colab": {
          "base_uri": "https://localhost:8080/"
        },
        "id": "MBI-E_t2BBew",
        "outputId": "0c3a5688-06f8-4522-c367-fb85a9ddb323"
      },
      "execution_count": 14,
      "outputs": [
        {
          "output_type": "stream",
          "name": "stdout",
          "text": [
            "not in Biblical_Hebrew_dic\n",
            "Ruth\n",
            "Habakkuk\n",
            "Jonah\n",
            "Obadiah\n",
            "Joel\n",
            "Hosea\n",
            "Micah\n",
            "Lamentations\n",
            "Proverbs\n",
            "Job\n",
            "Zephaniah\n",
            "Psalms\n",
            "Nahum\n",
            "Amos\n",
            "--------------------------------\n",
            "not in Period_dic\n"
          ]
        }
      ]
    },
    {
      "cell_type": "code",
      "source": [
        "Classical_Biblical_Hebrew_df=valid_df[valid_df[\"Biblical_Hebrew_era\"]=='Classical Biblical Hebrew']\n",
        "Transitional_period_Hebrew_df=valid_df[valid_df[\"Biblical_Hebrew_era\"]=='Transitional period between the classical language and the later language']\n",
        "Late_Biblical_Hebrew_df=valid_df[valid_df[\"Biblical_Hebrew_era\"]=='Late Biblical Hebrew']\n",
        "print(Classical_Biblical_Hebrew_df)\n",
        "print(Transitional_period_Hebrew_df.shape)\n",
        "print(Late_Biblical_Hebrew_df.shape)\n",
        "print(valid_df.shape)"
      ],
      "metadata": {
        "colab": {
          "base_uri": "https://localhost:8080/"
        },
        "id": "GBgV16FcBwqX",
        "outputId": "19c3ad85-b945-4c75-f2b4-ab91eedba94a"
      },
      "execution_count": 15,
      "outputs": [
        {
          "output_type": "stream",
          "name": "stdout",
          "text": [
            "     Unnamed: 0    name  verse_idx  \\\n",
            "0           294  Isaiah      294.0   \n",
            "1          1252  Isaiah     1252.0   \n",
            "2           279  Isaiah      279.0   \n",
            "3           541  Isaiah      541.0   \n",
            "4           619  Isaiah      619.0   \n",
            "..          ...     ...        ...   \n",
            "531       22964  Exodus      955.0   \n",
            "532       22263  Exodus      254.0   \n",
            "533       23156  Exodus     1147.0   \n",
            "534       22519  Exodus      510.0   \n",
            "535       23207  Exodus     1198.0   \n",
            "\n",
            "                                                 verse               Period  \\\n",
            "0    הכינו לבניו מטבח בעון אבותם בל יקמו וירשו ארץ ...            Monarchic   \n",
            "1    ואתם עזבי יהוה השכחים את הר קדשי הערכים לגד של...            Monarchic   \n",
            "2    מכה עמים בעברה מכת בלתי סרה רדה באף גוים מרדף ...            Monarchic   \n",
            "3    וחניתי כדור עליך וצרתי עליך מצב והקימתי עליך מצרת            Monarchic   \n",
            "4    עד יערה עלינו רוח ממרום והיה מדבר לכרמל וכרמל ...            Monarchic   \n",
            "..                                                 ...                  ...   \n",
            "531          ויאמר אליו אם אין פניך הלכים אל תעלנו מזה  Post-exilic Persian   \n",
            "532  ויאמר אלהם יהי כן יהוה עמכם כאשר אשלח אתכם ואת...  Post-exilic Persian   \n",
            "533  ויעשו שתי משבצת זהב ושתי טבעת זהב ויתנו את שתי...  Post-exilic Persian   \n",
            "534  ויוצא משה את העם לקראת האלהים מן המחנה ויתיצבו...  Post-exilic Persian   \n",
            "535  וישם את המנרה באהל מועד נכח השלחן על ירך המשכן...  Post-exilic Persian   \n",
            "\n",
            "           Biblical_Hebrew_era  \n",
            "0    Classical Biblical Hebrew  \n",
            "1    Classical Biblical Hebrew  \n",
            "2    Classical Biblical Hebrew  \n",
            "3    Classical Biblical Hebrew  \n",
            "4    Classical Biblical Hebrew  \n",
            "..                         ...  \n",
            "531  Classical Biblical Hebrew  \n",
            "532  Classical Biblical Hebrew  \n",
            "533  Classical Biblical Hebrew  \n",
            "534  Classical Biblical Hebrew  \n",
            "535  Classical Biblical Hebrew  \n",
            "\n",
            "[241 rows x 6 columns]\n",
            "(56, 6)\n",
            "(88, 6)\n",
            "(536, 6)\n"
          ]
        }
      ]
    },
    {
      "cell_type": "code",
      "source": [
        "Classical_Biblical_Hebrew_df.to_csv(\"/content/drive/Shareddrives/Embible/Data/Classical_Biblical_Hebrew_valid_df_not_final.csv\", sep='\\t', encoding='utf-8',index=False)\n",
        "Transitional_period_Hebrew_df.to_csv(\"/content/drive/Shareddrives/Embible/Data/Transitional_period_Hebrew_valid_df_not_final.csv\", sep='\\t', encoding='utf-8',index=False)\n",
        "Late_Biblical_Hebrew_df.to_csv(\"/content/drive/Shareddrives/Embible/Data/Late_Biblical_Hebrew_valid_df_not_final.csv\", sep='\\t', encoding='utf-8',index=False)"
      ],
      "metadata": {
        "id": "JUiQ6l_BETSm"
      },
      "execution_count": 16,
      "outputs": []
    },
    {
      "cell_type": "code",
      "source": [
        "newdf=pd.read_csv(\"/content/drive/Shareddrives/Embible/Data/Classical_Biblical_Hebrew_valid_df_not_final.csv\", sep='\\t', encoding='utf-8')\n",
        "newdf"
      ],
      "metadata": {
        "colab": {
          "base_uri": "https://localhost:8080/",
          "height": 423
        },
        "id": "NpQH046bFVt9",
        "outputId": "884f9c22-1c88-41cd-eeae-25e09e8af5d5"
      },
      "execution_count": 17,
      "outputs": [
        {
          "output_type": "execute_result",
          "data": {
            "text/plain": [
              "     Unnamed: 0    name  verse_idx  \\\n",
              "0           294  Isaiah      294.0   \n",
              "1          1252  Isaiah     1252.0   \n",
              "2           279  Isaiah      279.0   \n",
              "3           541  Isaiah      541.0   \n",
              "4           619  Isaiah      619.0   \n",
              "..          ...     ...        ...   \n",
              "236       22964  Exodus      955.0   \n",
              "237       22263  Exodus      254.0   \n",
              "238       23156  Exodus     1147.0   \n",
              "239       22519  Exodus      510.0   \n",
              "240       23207  Exodus     1198.0   \n",
              "\n",
              "                                                 verse               Period  \\\n",
              "0    הכינו לבניו מטבח בעון אבותם בל יקמו וירשו ארץ ...            Monarchic   \n",
              "1    ואתם עזבי יהוה השכחים את הר קדשי הערכים לגד של...            Monarchic   \n",
              "2    מכה עמים בעברה מכת בלתי סרה רדה באף גוים מרדף ...            Monarchic   \n",
              "3    וחניתי כדור עליך וצרתי עליך מצב והקימתי עליך מצרת            Monarchic   \n",
              "4    עד יערה עלינו רוח ממרום והיה מדבר לכרמל וכרמל ...            Monarchic   \n",
              "..                                                 ...                  ...   \n",
              "236          ויאמר אליו אם אין פניך הלכים אל תעלנו מזה  Post-exilic Persian   \n",
              "237  ויאמר אלהם יהי כן יהוה עמכם כאשר אשלח אתכם ואת...  Post-exilic Persian   \n",
              "238  ויעשו שתי משבצת זהב ושתי טבעת זהב ויתנו את שתי...  Post-exilic Persian   \n",
              "239  ויוצא משה את העם לקראת האלהים מן המחנה ויתיצבו...  Post-exilic Persian   \n",
              "240  וישם את המנרה באהל מועד נכח השלחן על ירך המשכן...  Post-exilic Persian   \n",
              "\n",
              "           Biblical_Hebrew_era  \n",
              "0    Classical Biblical Hebrew  \n",
              "1    Classical Biblical Hebrew  \n",
              "2    Classical Biblical Hebrew  \n",
              "3    Classical Biblical Hebrew  \n",
              "4    Classical Biblical Hebrew  \n",
              "..                         ...  \n",
              "236  Classical Biblical Hebrew  \n",
              "237  Classical Biblical Hebrew  \n",
              "238  Classical Biblical Hebrew  \n",
              "239  Classical Biblical Hebrew  \n",
              "240  Classical Biblical Hebrew  \n",
              "\n",
              "[241 rows x 6 columns]"
            ],
            "text/html": [
              "\n",
              "  <div id=\"df-dde029e4-2019-4271-9962-7e554533e5e7\">\n",
              "    <div class=\"colab-df-container\">\n",
              "      <div>\n",
              "<style scoped>\n",
              "    .dataframe tbody tr th:only-of-type {\n",
              "        vertical-align: middle;\n",
              "    }\n",
              "\n",
              "    .dataframe tbody tr th {\n",
              "        vertical-align: top;\n",
              "    }\n",
              "\n",
              "    .dataframe thead th {\n",
              "        text-align: right;\n",
              "    }\n",
              "</style>\n",
              "<table border=\"1\" class=\"dataframe\">\n",
              "  <thead>\n",
              "    <tr style=\"text-align: right;\">\n",
              "      <th></th>\n",
              "      <th>Unnamed: 0</th>\n",
              "      <th>name</th>\n",
              "      <th>verse_idx</th>\n",
              "      <th>verse</th>\n",
              "      <th>Period</th>\n",
              "      <th>Biblical_Hebrew_era</th>\n",
              "    </tr>\n",
              "  </thead>\n",
              "  <tbody>\n",
              "    <tr>\n",
              "      <th>0</th>\n",
              "      <td>294</td>\n",
              "      <td>Isaiah</td>\n",
              "      <td>294.0</td>\n",
              "      <td>הכינו לבניו מטבח בעון אבותם בל יקמו וירשו ארץ ...</td>\n",
              "      <td>Monarchic</td>\n",
              "      <td>Classical Biblical Hebrew</td>\n",
              "    </tr>\n",
              "    <tr>\n",
              "      <th>1</th>\n",
              "      <td>1252</td>\n",
              "      <td>Isaiah</td>\n",
              "      <td>1252.0</td>\n",
              "      <td>ואתם עזבי יהוה השכחים את הר קדשי הערכים לגד של...</td>\n",
              "      <td>Monarchic</td>\n",
              "      <td>Classical Biblical Hebrew</td>\n",
              "    </tr>\n",
              "    <tr>\n",
              "      <th>2</th>\n",
              "      <td>279</td>\n",
              "      <td>Isaiah</td>\n",
              "      <td>279.0</td>\n",
              "      <td>מכה עמים בעברה מכת בלתי סרה רדה באף גוים מרדף ...</td>\n",
              "      <td>Monarchic</td>\n",
              "      <td>Classical Biblical Hebrew</td>\n",
              "    </tr>\n",
              "    <tr>\n",
              "      <th>3</th>\n",
              "      <td>541</td>\n",
              "      <td>Isaiah</td>\n",
              "      <td>541.0</td>\n",
              "      <td>וחניתי כדור עליך וצרתי עליך מצב והקימתי עליך מצרת</td>\n",
              "      <td>Monarchic</td>\n",
              "      <td>Classical Biblical Hebrew</td>\n",
              "    </tr>\n",
              "    <tr>\n",
              "      <th>4</th>\n",
              "      <td>619</td>\n",
              "      <td>Isaiah</td>\n",
              "      <td>619.0</td>\n",
              "      <td>עד יערה עלינו רוח ממרום והיה מדבר לכרמל וכרמל ...</td>\n",
              "      <td>Monarchic</td>\n",
              "      <td>Classical Biblical Hebrew</td>\n",
              "    </tr>\n",
              "    <tr>\n",
              "      <th>...</th>\n",
              "      <td>...</td>\n",
              "      <td>...</td>\n",
              "      <td>...</td>\n",
              "      <td>...</td>\n",
              "      <td>...</td>\n",
              "      <td>...</td>\n",
              "    </tr>\n",
              "    <tr>\n",
              "      <th>236</th>\n",
              "      <td>22964</td>\n",
              "      <td>Exodus</td>\n",
              "      <td>955.0</td>\n",
              "      <td>ויאמר אליו אם אין פניך הלכים אל תעלנו מזה</td>\n",
              "      <td>Post-exilic Persian</td>\n",
              "      <td>Classical Biblical Hebrew</td>\n",
              "    </tr>\n",
              "    <tr>\n",
              "      <th>237</th>\n",
              "      <td>22263</td>\n",
              "      <td>Exodus</td>\n",
              "      <td>254.0</td>\n",
              "      <td>ויאמר אלהם יהי כן יהוה עמכם כאשר אשלח אתכם ואת...</td>\n",
              "      <td>Post-exilic Persian</td>\n",
              "      <td>Classical Biblical Hebrew</td>\n",
              "    </tr>\n",
              "    <tr>\n",
              "      <th>238</th>\n",
              "      <td>23156</td>\n",
              "      <td>Exodus</td>\n",
              "      <td>1147.0</td>\n",
              "      <td>ויעשו שתי משבצת זהב ושתי טבעת זהב ויתנו את שתי...</td>\n",
              "      <td>Post-exilic Persian</td>\n",
              "      <td>Classical Biblical Hebrew</td>\n",
              "    </tr>\n",
              "    <tr>\n",
              "      <th>239</th>\n",
              "      <td>22519</td>\n",
              "      <td>Exodus</td>\n",
              "      <td>510.0</td>\n",
              "      <td>ויוצא משה את העם לקראת האלהים מן המחנה ויתיצבו...</td>\n",
              "      <td>Post-exilic Persian</td>\n",
              "      <td>Classical Biblical Hebrew</td>\n",
              "    </tr>\n",
              "    <tr>\n",
              "      <th>240</th>\n",
              "      <td>23207</td>\n",
              "      <td>Exodus</td>\n",
              "      <td>1198.0</td>\n",
              "      <td>וישם את המנרה באהל מועד נכח השלחן על ירך המשכן...</td>\n",
              "      <td>Post-exilic Persian</td>\n",
              "      <td>Classical Biblical Hebrew</td>\n",
              "    </tr>\n",
              "  </tbody>\n",
              "</table>\n",
              "<p>241 rows × 6 columns</p>\n",
              "</div>\n",
              "      <button class=\"colab-df-convert\" onclick=\"convertToInteractive('df-dde029e4-2019-4271-9962-7e554533e5e7')\"\n",
              "              title=\"Convert this dataframe to an interactive table.\"\n",
              "              style=\"display:none;\">\n",
              "        \n",
              "  <svg xmlns=\"http://www.w3.org/2000/svg\" height=\"24px\"viewBox=\"0 0 24 24\"\n",
              "       width=\"24px\">\n",
              "    <path d=\"M0 0h24v24H0V0z\" fill=\"none\"/>\n",
              "    <path d=\"M18.56 5.44l.94 2.06.94-2.06 2.06-.94-2.06-.94-.94-2.06-.94 2.06-2.06.94zm-11 1L8.5 8.5l.94-2.06 2.06-.94-2.06-.94L8.5 2.5l-.94 2.06-2.06.94zm10 10l.94 2.06.94-2.06 2.06-.94-2.06-.94-.94-2.06-.94 2.06-2.06.94z\"/><path d=\"M17.41 7.96l-1.37-1.37c-.4-.4-.92-.59-1.43-.59-.52 0-1.04.2-1.43.59L10.3 9.45l-7.72 7.72c-.78.78-.78 2.05 0 2.83L4 21.41c.39.39.9.59 1.41.59.51 0 1.02-.2 1.41-.59l7.78-7.78 2.81-2.81c.8-.78.8-2.07 0-2.86zM5.41 20L4 18.59l7.72-7.72 1.47 1.35L5.41 20z\"/>\n",
              "  </svg>\n",
              "      </button>\n",
              "      \n",
              "  <style>\n",
              "    .colab-df-container {\n",
              "      display:flex;\n",
              "      flex-wrap:wrap;\n",
              "      gap: 12px;\n",
              "    }\n",
              "\n",
              "    .colab-df-convert {\n",
              "      background-color: #E8F0FE;\n",
              "      border: none;\n",
              "      border-radius: 50%;\n",
              "      cursor: pointer;\n",
              "      display: none;\n",
              "      fill: #1967D2;\n",
              "      height: 32px;\n",
              "      padding: 0 0 0 0;\n",
              "      width: 32px;\n",
              "    }\n",
              "\n",
              "    .colab-df-convert:hover {\n",
              "      background-color: #E2EBFA;\n",
              "      box-shadow: 0px 1px 2px rgba(60, 64, 67, 0.3), 0px 1px 3px 1px rgba(60, 64, 67, 0.15);\n",
              "      fill: #174EA6;\n",
              "    }\n",
              "\n",
              "    [theme=dark] .colab-df-convert {\n",
              "      background-color: #3B4455;\n",
              "      fill: #D2E3FC;\n",
              "    }\n",
              "\n",
              "    [theme=dark] .colab-df-convert:hover {\n",
              "      background-color: #434B5C;\n",
              "      box-shadow: 0px 1px 3px 1px rgba(0, 0, 0, 0.15);\n",
              "      filter: drop-shadow(0px 1px 2px rgba(0, 0, 0, 0.3));\n",
              "      fill: #FFFFFF;\n",
              "    }\n",
              "  </style>\n",
              "\n",
              "      <script>\n",
              "        const buttonEl =\n",
              "          document.querySelector('#df-dde029e4-2019-4271-9962-7e554533e5e7 button.colab-df-convert');\n",
              "        buttonEl.style.display =\n",
              "          google.colab.kernel.accessAllowed ? 'block' : 'none';\n",
              "\n",
              "        async function convertToInteractive(key) {\n",
              "          const element = document.querySelector('#df-dde029e4-2019-4271-9962-7e554533e5e7');\n",
              "          const dataTable =\n",
              "            await google.colab.kernel.invokeFunction('convertToInteractive',\n",
              "                                                     [key], {});\n",
              "          if (!dataTable) return;\n",
              "\n",
              "          const docLinkHtml = 'Like what you see? Visit the ' +\n",
              "            '<a target=\"_blank\" href=https://colab.research.google.com/notebooks/data_table.ipynb>data table notebook</a>'\n",
              "            + ' to learn more about interactive tables.';\n",
              "          element.innerHTML = '';\n",
              "          dataTable['output_type'] = 'display_data';\n",
              "          await google.colab.output.renderOutput(dataTable, element);\n",
              "          const docLink = document.createElement('div');\n",
              "          docLink.innerHTML = docLinkHtml;\n",
              "          element.appendChild(docLink);\n",
              "        }\n",
              "      </script>\n",
              "    </div>\n",
              "  </div>\n",
              "  "
            ]
          },
          "metadata": {},
          "execution_count": 17
        }
      ]
    }
  ]
}
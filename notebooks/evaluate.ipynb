{
  "cells": [
    {
      "cell_type": "markdown",
      "metadata": {
        "id": "view-in-github",
        "colab_type": "text"
      },
      "source": [
        "<a href=\"https://colab.research.google.com/github/harelm4/Embible/blob/master/notebooks/evaluate.ipynb\" target=\"_parent\"><img src=\"https://colab.research.google.com/assets/colab-badge.svg\" alt=\"Open In Colab\"/></a>"
      ]
    },
    {
      "cell_type": "code",
      "execution_count": null,
      "metadata": {
        "id": "-1gPd66t7gBC"
      },
      "outputs": [],
      "source": [
        "!pip install datasets\n",
        "!pip install transformers\n",
        "from transformers import AutoTokenizer,AutoModelForMaskedLM\n",
        "from google.colab import drive\n",
        "from transformers import DataCollatorForLanguageModeling,TrainingArguments\n",
        "import datasets"
      ]
    },
    {
      "cell_type": "code",
      "execution_count": null,
      "metadata": {
        "colab": {
          "base_uri": "https://localhost:8080/"
        },
        "id": "YkEMpCX22Doq",
        "outputId": "df059383-a1a7-4e38-bb42-2c97a51e9e07"
      },
      "outputs": [
        {
          "name": "stdout",
          "output_type": "stream",
          "text": [
            "Drive already mounted at /content/drive; to attempt to forcibly remount, call drive.mount(\"/content/drive\", force_remount=True).\n"
          ]
        },
        {
          "name": "stderr",
          "output_type": "stream",
          "text": [
            "/usr/local/lib/python3.8/dist-packages/torch/cuda/__init__.py:497: UserWarning: Can't initialize NVML\n",
            "  warnings.warn(\"Can't initialize NVML\")\n"
          ]
        }
      ],
      "source": [
        "drive.mount('/content/drive')\n",
        "\n",
        "cp = \"tau/tavbert-he\"\n",
        "model=AutoModelForMaskedLM.from_pretrained(cp)\n",
        "tokenizer=AutoTokenizer.from_pretrained(cp)\n",
        "\n",
        "training_args = TrainingArguments(\"test-trainer\",num_train_epochs=10)\n",
        "\n",
        "data_collator = DataCollatorForLanguageModeling(tokenizer=tokenizer, mlm_probability=0.15)"
      ]
    },
    {
      "cell_type": "code",
      "execution_count": null,
      "metadata": {
        "id": "4w1FTX9f6xTZ"
      },
      "outputs": [],
      "source": [
        "train_ds=datasets.load_dataset('csv',data_files=\"/content/drive/Shareddrives/Embible/Data/train_df.csv\",sep=\"\\t\")\n",
        "valid_ds=datasets.load_dataset('csv',data_files=\"/content/drive/Shareddrives/Embible/Data/test_df.csv\",sep=\"\\t\")\n",
        "test_ds=datasets.load_dataset('csv',data_files=\"/content/drive/Shareddrives/Embible/Data/valid_df.csv\",sep=\"\\t\")"
      ]
    },
    {
      "cell_type": "code",
      "execution_count": null,
      "metadata": {
        "colab": {
          "background_save": true,
          "base_uri": "https://localhost:8080/",
          "height": 377,
          "referenced_widgets": [
            "986f6de91dde47c0b2cb7e7cfdf02da2",
            "bdf7eec298114006974b619a822aafcb",
            "8e9b2cd9118c451abc77fb4732d0a5c8"
          ]
        },
        "id": "zTU-mdr28Mib",
        "outputId": "8d0d2de7-b0f8-4291-f159-ec1fbeaa476d"
      },
      "outputs": [
        {
          "data": {
            "application/vnd.jupyter.widget-view+json": {
              "model_id": "986f6de91dde47c0b2cb7e7cfdf02da2",
              "version_major": 2,
              "version_minor": 0
            },
            "text/plain": [
              "  0%|          | 0/22150 [00:00<?, ?ex/s]"
            ]
          },
          "metadata": {},
          "output_type": "display_data"
        },
        {
          "data": {
            "application/vnd.jupyter.widget-view+json": {
              "model_id": "bdf7eec298114006974b619a822aafcb",
              "version_major": 2,
              "version_minor": 0
            },
            "text/plain": [
              "  0%|          | 0/536 [00:00<?, ?ex/s]"
            ]
          },
          "metadata": {},
          "output_type": "display_data"
        },
        {
          "data": {
            "application/vnd.jupyter.widget-view+json": {
              "model_id": "8e9b2cd9118c451abc77fb4732d0a5c8",
              "version_major": 2,
              "version_minor": 0
            },
            "text/plain": [
              "  0%|          | 0/536 [00:00<?, ?ex/s]"
            ]
          },
          "metadata": {},
          "output_type": "display_data"
        }
      ],
      "source": [
        "tokenized_train_ds=train_ds.map(lambda x : tokenizer(str(x['verse']),padding=\"longest\"),)\n",
        "tokenized_valid_ds=valid_ds.map(lambda x : tokenizer(str(x['verse']),padding=\"longest\"))\n",
        "tokenized_test_ds=test_ds.map(lambda x : tokenizer(str(x['verse'],padding=\"longest\"))"
      ]
    },
    {
      "cell_type": "code",
      "execution_count": null,
      "metadata": {
        "id": "1iiS9hD36v3w"
      },
      "outputs": [],
      "source": [
        "from transformers import Trainer\n",
        "\n",
        "trainer = Trainer(\n",
        "    model,\n",
        "    training_args,\n",
        "    compute_metrics=compute_metrics,\n",
        "    train_dataset=tokenized_ds['train'],\n",
        "    eval_dataset=tokenized_ds[\"test\"],\n",
        "    data_collator=data_collator,\n",
        "    tokenizer=tokenizer,\n",
        ")"
      ]
    }
  ],
  "metadata": {
    "colab": {
      "provenance": [],
      "authorship_tag": "ABX9TyPF3FVYVe3G3PP0RhL9yXc6",
      "include_colab_link": true
    },
    "kernelspec": {
      "display_name": "Python 3",
      "name": "python3"
    },
    "language_info": {
      "name": "python"
    },
    "widgets": {
      "application/vnd.jupyter.widget-state+json": {}
    }
  },
  "nbformat": 4,
  "nbformat_minor": 0
}